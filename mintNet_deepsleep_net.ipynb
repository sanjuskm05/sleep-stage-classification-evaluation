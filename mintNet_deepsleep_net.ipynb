{
  "nbformat": 4,
  "nbformat_minor": 0,
  "metadata": {
    "colab": {
      "name": "mintNet_deepsleep_net_20210422.ipynb",
      "provenance": [],
      "collapsed_sections": [],
      "machine_shape": "hm"
    },
    "kernelspec": {
      "display_name": "Python 3",
      "name": "python3"
    },
    "language_info": {
      "name": "python"
    },
    "widgets": {
      "application/vnd.jupyter.widget-state+json": {
        "970619d098b9425ab045e51d10c43bb7": {
          "model_module": "@jupyter-widgets/controls",
          "model_name": "HBoxModel",
          "state": {
            "_view_name": "HBoxView",
            "_dom_classes": [],
            "_model_name": "HBoxModel",
            "_view_module": "@jupyter-widgets/controls",
            "_model_module_version": "1.5.0",
            "_view_count": null,
            "_view_module_version": "1.5.0",
            "box_style": "",
            "layout": "IPY_MODEL_944a25c62d264c53a84c8bb3fb7cb3eb",
            "_model_module": "@jupyter-widgets/controls",
            "children": [
              "IPY_MODEL_eb12db1a2f9f49fe9e80c40bb0d6caac",
              "IPY_MODEL_3f4c6a7f58964deba583ee5c6bfff991"
            ]
          }
        },
        "944a25c62d264c53a84c8bb3fb7cb3eb": {
          "model_module": "@jupyter-widgets/base",
          "model_name": "LayoutModel",
          "state": {
            "_view_name": "LayoutView",
            "grid_template_rows": null,
            "right": null,
            "justify_content": null,
            "_view_module": "@jupyter-widgets/base",
            "overflow": null,
            "_model_module_version": "1.2.0",
            "_view_count": null,
            "flex_flow": null,
            "width": null,
            "min_width": null,
            "border": null,
            "align_items": null,
            "bottom": null,
            "_model_module": "@jupyter-widgets/base",
            "top": null,
            "grid_column": null,
            "overflow_y": null,
            "overflow_x": null,
            "grid_auto_flow": null,
            "grid_area": null,
            "grid_template_columns": null,
            "flex": null,
            "_model_name": "LayoutModel",
            "justify_items": null,
            "grid_row": null,
            "max_height": null,
            "align_content": null,
            "visibility": null,
            "align_self": null,
            "height": null,
            "min_height": null,
            "padding": null,
            "grid_auto_rows": null,
            "grid_gap": null,
            "max_width": null,
            "order": null,
            "_view_module_version": "1.2.0",
            "grid_template_areas": null,
            "object_position": null,
            "object_fit": null,
            "grid_auto_columns": null,
            "margin": null,
            "display": null,
            "left": null
          }
        },
        "eb12db1a2f9f49fe9e80c40bb0d6caac": {
          "model_module": "@jupyter-widgets/controls",
          "model_name": "FloatProgressModel",
          "state": {
            "_view_name": "ProgressView",
            "style": "IPY_MODEL_c68adf1ab2514574af9c93bb2ee124e7",
            "_dom_classes": [],
            "description": "100%",
            "_model_name": "FloatProgressModel",
            "bar_style": "success",
            "max": 50,
            "_view_module": "@jupyter-widgets/controls",
            "_model_module_version": "1.5.0",
            "value": 50,
            "_view_count": null,
            "_view_module_version": "1.5.0",
            "orientation": "horizontal",
            "min": 0,
            "description_tooltip": null,
            "_model_module": "@jupyter-widgets/controls",
            "layout": "IPY_MODEL_961c10d6554d4d61b12d5cb6bef2e991"
          }
        },
        "3f4c6a7f58964deba583ee5c6bfff991": {
          "model_module": "@jupyter-widgets/controls",
          "model_name": "HTMLModel",
          "state": {
            "_view_name": "HTMLView",
            "style": "IPY_MODEL_f2ee99131687448eba39b4c4e9d765ab",
            "_dom_classes": [],
            "description": "",
            "_model_name": "HTMLModel",
            "placeholder": "​",
            "_view_module": "@jupyter-widgets/controls",
            "_model_module_version": "1.5.0",
            "value": " 50/50 [00:30&lt;00:00,  1.62it/s]",
            "_view_count": null,
            "_view_module_version": "1.5.0",
            "description_tooltip": null,
            "_model_module": "@jupyter-widgets/controls",
            "layout": "IPY_MODEL_828098ab52c448a38efc5bcddfa03f8f"
          }
        },
        "c68adf1ab2514574af9c93bb2ee124e7": {
          "model_module": "@jupyter-widgets/controls",
          "model_name": "ProgressStyleModel",
          "state": {
            "_view_name": "StyleView",
            "_model_name": "ProgressStyleModel",
            "description_width": "initial",
            "_view_module": "@jupyter-widgets/base",
            "_model_module_version": "1.5.0",
            "_view_count": null,
            "_view_module_version": "1.2.0",
            "bar_color": null,
            "_model_module": "@jupyter-widgets/controls"
          }
        },
        "961c10d6554d4d61b12d5cb6bef2e991": {
          "model_module": "@jupyter-widgets/base",
          "model_name": "LayoutModel",
          "state": {
            "_view_name": "LayoutView",
            "grid_template_rows": null,
            "right": null,
            "justify_content": null,
            "_view_module": "@jupyter-widgets/base",
            "overflow": null,
            "_model_module_version": "1.2.0",
            "_view_count": null,
            "flex_flow": null,
            "width": null,
            "min_width": null,
            "border": null,
            "align_items": null,
            "bottom": null,
            "_model_module": "@jupyter-widgets/base",
            "top": null,
            "grid_column": null,
            "overflow_y": null,
            "overflow_x": null,
            "grid_auto_flow": null,
            "grid_area": null,
            "grid_template_columns": null,
            "flex": null,
            "_model_name": "LayoutModel",
            "justify_items": null,
            "grid_row": null,
            "max_height": null,
            "align_content": null,
            "visibility": null,
            "align_self": null,
            "height": null,
            "min_height": null,
            "padding": null,
            "grid_auto_rows": null,
            "grid_gap": null,
            "max_width": null,
            "order": null,
            "_view_module_version": "1.2.0",
            "grid_template_areas": null,
            "object_position": null,
            "object_fit": null,
            "grid_auto_columns": null,
            "margin": null,
            "display": null,
            "left": null
          }
        },
        "f2ee99131687448eba39b4c4e9d765ab": {
          "model_module": "@jupyter-widgets/controls",
          "model_name": "DescriptionStyleModel",
          "state": {
            "_view_name": "StyleView",
            "_model_name": "DescriptionStyleModel",
            "description_width": "",
            "_view_module": "@jupyter-widgets/base",
            "_model_module_version": "1.5.0",
            "_view_count": null,
            "_view_module_version": "1.2.0",
            "_model_module": "@jupyter-widgets/controls"
          }
        },
        "828098ab52c448a38efc5bcddfa03f8f": {
          "model_module": "@jupyter-widgets/base",
          "model_name": "LayoutModel",
          "state": {
            "_view_name": "LayoutView",
            "grid_template_rows": null,
            "right": null,
            "justify_content": null,
            "_view_module": "@jupyter-widgets/base",
            "overflow": null,
            "_model_module_version": "1.2.0",
            "_view_count": null,
            "flex_flow": null,
            "width": null,
            "min_width": null,
            "border": null,
            "align_items": null,
            "bottom": null,
            "_model_module": "@jupyter-widgets/base",
            "top": null,
            "grid_column": null,
            "overflow_y": null,
            "overflow_x": null,
            "grid_auto_flow": null,
            "grid_area": null,
            "grid_template_columns": null,
            "flex": null,
            "_model_name": "LayoutModel",
            "justify_items": null,
            "grid_row": null,
            "max_height": null,
            "align_content": null,
            "visibility": null,
            "align_self": null,
            "height": null,
            "min_height": null,
            "padding": null,
            "grid_auto_rows": null,
            "grid_gap": null,
            "max_width": null,
            "order": null,
            "_view_module_version": "1.2.0",
            "grid_template_areas": null,
            "object_position": null,
            "object_fit": null,
            "grid_auto_columns": null,
            "margin": null,
            "display": null,
            "left": null
          }
        }
      }
    },
    "accelerator": "GPU"
  },
  "cells": [
    {
      "cell_type": "code",
      "metadata": {
        "colab": {
          "base_uri": "https://localhost:8080/"
        },
        "id": "MTLTv53HbeIB",
        "outputId": "8ecd6a53-c14a-42b7-ffe1-1ee64a128493"
      },
      "source": [
        "!pip install mne"
      ],
      "execution_count": 1,
      "outputs": [
        {
          "output_type": "stream",
          "text": [
            "Requirement already satisfied: mne in /usr/local/lib/python3.7/dist-packages (0.22.1)\n",
            "Requirement already satisfied: scipy>=0.17.1 in /usr/local/lib/python3.7/dist-packages (from mne) (1.4.1)\n",
            "Requirement already satisfied: numpy>=1.11.3 in /usr/local/lib/python3.7/dist-packages (from mne) (1.19.5)\n"
          ],
          "name": "stdout"
        }
      ]
    },
    {
      "cell_type": "code",
      "metadata": {
        "colab": {
          "base_uri": "https://localhost:8080/"
        },
        "id": "b1hdA4IKD0Nc",
        "outputId": "6c2756a5-626a-4289-dd83-5d3ae20d4556"
      },
      "source": [
        "from google.colab import drive\n",
        "drive.mount('/content/drive')"
      ],
      "execution_count": 2,
      "outputs": [
        {
          "output_type": "stream",
          "text": [
            "Drive already mounted at /content/drive; to attempt to forcibly remount, call drive.mount(\"/content/drive\", force_remount=True).\n"
          ],
          "name": "stdout"
        }
      ]
    },
    {
      "cell_type": "code",
      "metadata": {
        "id": "FShErap9Hh_Z"
      },
      "source": [
        "#from google.colab import drive\n",
        "#drive.mount('/content/gdrive')"
      ],
      "execution_count": 3,
      "outputs": []
    },
    {
      "cell_type": "code",
      "metadata": {
        "id": "koKn0O9qd5bS"
      },
      "source": [
        "#Source : https://github.com/akaraspt/deepsleepnet\n",
        "import re, operator, logging\n",
        "import numpy as np\n",
        "from collections import namedtuple\n",
        "import h5py\n",
        "import random\n",
        "from datetime import datetime\n",
        "EVENT_CHANNEL = 'EDF Annotations'\n",
        "log = logging.getLogger(__name__)\n",
        "\n",
        "class EDFEndOfData: pass\n",
        "\n",
        "WINDOW_SIZE = 100\n",
        "\n",
        "def rescale_array(X):\n",
        "    X = X / 20\n",
        "    X = np.clip(X, -5, 5)\n",
        "    return X\n",
        "\n",
        "\n",
        "def aug_X(X):\n",
        "    scale = 1 + np.random.uniform(-0.1, 0.1)\n",
        "    offset = np.random.uniform(-0.1, 0.1)\n",
        "    noise = np.random.normal(scale=0.05, size=X.shape)\n",
        "    X = scale * X + offset + noise\n",
        "    return X\n",
        "\n",
        "def gen(dict_files, aug=False):\n",
        "    while True:\n",
        "        record_name = random.choice(list(dict_files.keys()))\n",
        "        batch_data = dict_files[record_name]\n",
        "        all_rows = batch_data['x']\n",
        "\n",
        "        for i in range(10):\n",
        "            start_index = random.choice(range(all_rows.shape[0]-WINDOW_SIZE))\n",
        "\n",
        "            X = all_rows[start_index:start_index+WINDOW_SIZE, ...]\n",
        "            Y = batch_data['y'][start_index:start_index+WINDOW_SIZE]\n",
        "\n",
        "            X = np.expand_dims(X, 0)\n",
        "            Y = np.expand_dims(Y, -1)\n",
        "            Y = np.expand_dims(Y, 0)\n",
        "\n",
        "            if aug:\n",
        "                X = aug_X(X)\n",
        "            X = rescale_array(X)\n",
        "\n",
        "            yield X, Y\n",
        "\n",
        "\n",
        "def chunker(seq, size=WINDOW_SIZE):\n",
        "    return (seq[pos:pos + size] for pos in range(0, len(seq), size))\n",
        "\n",
        "def tal(tal_str):\n",
        "  exp = '(?P<onset>[+\\-]\\d+(?:\\.\\d*)?)' + \\\n",
        "        '(?:\\x15(?P<duration>\\d+(?:\\.\\d*)?))?' + \\\n",
        "        '(\\x14(?P<annotation>[^\\x00]*))?' + \\\n",
        "        '(?:\\x14\\x00)'\n",
        "\n",
        "  def annotation_to_list(annotation):\n",
        "    # print('annotatn:',annotation)\n",
        "    return str(annotation).split('\\x14') if annotation else []\n",
        "\n",
        "  def parse(dic):\n",
        "    return (\n",
        "    float(dic['onset']), float(dic['duration']) if dic['duration'] else 0., annotation_to_list(dic['annotation']))\n",
        "\n",
        "  return [parse(m.groupdict()) for m in re.finditer(exp, tal_str)]\n",
        "\n",
        "def edf_header(f):\n",
        "    h = {}\n",
        "    assert f.tell() == 0  # check file position\n",
        "    assert f.read(8) == '0       '\n",
        "    # recording info)\n",
        "    h['local_subject_id'] = f.read(80).strip()\n",
        "    h['local_recording_id'] = f.read(80).strip()\n",
        "    # parse timestamp\n",
        "    (day, month, year) = [int(x) for x in re.findall('(\\d+)', f.read(8))]\n",
        "    (hour, minute, sec) = [int(x) for x in re.findall('(\\d+)', f.read(8))]\n",
        "    h['date_time'] = str(datetime(year + 2000, month, day, hour, minute, sec))\n",
        "    # misc\n",
        "    header_nbytes = int(f.read(8))\n",
        "    subtype = f.read(44)[:5]\n",
        "    h['EDF+'] = subtype in ['EDF+C', 'EDF+D']\n",
        "    h['contiguous'] = subtype != 'EDF+D'\n",
        "    h['n_records'] = int(f.read(8))\n",
        "    h['record_length'] = float(f.read(8))  # in seconds\n",
        "    nchannels = h['n_channels'] = int(f.read(4))\n",
        "    # read channel info\n",
        "    channels = range(h['n_channels'])\n",
        "    h['label'] = [f.read(16).strip() for n in channels]\n",
        "    h['transducer_type'] = [f.read(80).strip() for n in channels]\n",
        "    h['units'] = [f.read(8).strip() for n in channels]\n",
        "    h['physical_min'] = np.asarray([float(f.read(8)) for n in channels])\n",
        "    h['physical_max'] = np.asarray([float(f.read(8)) for n in channels])\n",
        "    h['digital_min'] = np.asarray([float(f.read(8)) for n in channels])\n",
        "    h['digital_max'] = np.asarray([float(f.read(8)) for n in channels])\n",
        "    h['prefiltering'] = [f.read(80).strip() for n in channels]\n",
        "    h['n_samples_per_record'] = [int(f.read(8)) for n in channels]\n",
        "    f.read(32 * nchannels)  # reserved\n",
        "    assert f.tell() == header_nbytes\n",
        "    return h\n",
        "\n",
        "class BaseEDFReader:\n",
        "  def __init__(self, file, verbose=False):\n",
        "    self.file = file\n",
        "    self.verbose = verbose\n",
        "\n",
        "  def read_header(self):\n",
        "    if self.verbose:\n",
        "        print('read_header')\n",
        "    self.header = h = edf_header(self.file)\n",
        "    # calculate ranges for rescaling\n",
        "    self.dig_min = h['digital_min']\n",
        "    self.phys_min = h['physical_min']\n",
        "    phys_range = h['physical_max'] - h['physical_min']\n",
        "    dig_range = h['digital_max'] - h['digital_min']\n",
        "    assert np.all(phys_range > 0)\n",
        "    assert np.all(dig_range > 0)\n",
        "    self.gain = phys_range / dig_range\n",
        "\n",
        "  def read_raw_record(self):\n",
        "    if self.verbose:\n",
        "        print('read raw record')\n",
        "    # Read a record with data and return a list containing arrays with raw bytes.\n",
        "    result = []\n",
        "    for nsamp in self.header['n_samples_per_record']:\n",
        "      samples = self.file.read(nsamp * 2)\n",
        "      if len(samples) != nsamp * 2:\n",
        "        raise EDFEndOfData\n",
        "      result.append(samples)\n",
        "    return result\n",
        "\n",
        "  def convert_record(self, raw_record):\n",
        "    if self.verbose:\n",
        "        print('convert record')\n",
        "    # Convert a raw record to a (time, signals, events) tuple based on information in the header.\n",
        "    h = self.header\n",
        "    dig_min, phys_min, gain = self.dig_min, self.phys_min, self.gain\n",
        "    time = float('nan')\n",
        "    signals = []\n",
        "    events = []\n",
        "    for (i, samples) in enumerate(raw_record):\n",
        "      if h['label'][i] == EVENT_CHANNEL:\n",
        "        ann = tal(samples)\n",
        "        time = ann[0][0]\n",
        "        events.extend(ann[1:])\n",
        "      # print(i, samples)\n",
        "      # exit()\n",
        "      else:\n",
        "        # 2-byte little-endian integers\n",
        "        dig = np.fromstring(samples, '<i2').astype(np.float32)\n",
        "        phys = (dig - dig_min[i]) * gain[i] + phys_min[i]\n",
        "        signals.append(phys)\n",
        "    return time, signals, events\n",
        "\n",
        "  def read_record(self):\n",
        "    if self.verbose:\n",
        "        print('read_record')\n",
        "    return self.convert_record(self.read_raw_record())\n",
        "\n",
        "  def records(self):\n",
        "    if self.verbose:\n",
        "        print('record self')\n",
        "    # Record generator.\n",
        "    yield self.read_record()\n",
        "    \"\"\"try:\n",
        "        while True:\n",
        "            yield self.read_record()\n",
        "    except EDFEndOfData:\n",
        "        pass\"\"\"\n",
        "\n",
        "def load_edf(edffile):\n",
        "  \"\"\"Load an EDF+ file.\n",
        "   Very basic reader for EDF and EDF+ files. While BaseEDFReader does support\n",
        "exotic features like non-homogeneous sample rates and loading only parts of\n",
        "the stream, load_edf expects a single fixed sample rate for all channels and\n",
        "tries to load the whole file.\n",
        "Parameters\n",
        "----------\n",
        "edffile : file-like object or string\n",
        "Returns\n",
        "-------\n",
        "Named tuple with the fields:\n",
        "  X : NumPy array with shape p by n.\n",
        "    Raw recording of n samples in p dimensions.\n",
        "  sample_rate : float\n",
        "    The sample rate of the recording. Note that mixed sample-rates are not\n",
        "    supported.\n",
        "  sens_lab : list of length p with strings\n",
        "    The labels of the sensors used to record X.\n",
        "  time : NumPy array with length n\n",
        "    The time offset in the recording for each sample.\n",
        "  annotations : a list with tuples      EDF+ annotations are stored in (start, duration, description) tuples.\n",
        "    start : float\n",
        "      Indicates the start of the event in seconds.\n",
        "    duration : float\n",
        "      Indicates the duration of the event in seconds.\n",
        "    description : list with strings\n",
        "      Contains (multiple?) descriptions of the annotation event.\"\"\"\n",
        "  if isinstance(edffile, basestring):\n",
        "    with open(edffile, 'rb') as f:\n",
        "      return load_edf(f)  # convert filename to file\n",
        "  reader = BaseEDFReader(edffile)\n",
        "  reader.read_header()\n",
        "  h = reader.header\n",
        "  log.debug('EDF header: %s' % h)\n",
        "  # get sample rate info\n",
        "  nsamp = np.unique(\n",
        "    [n for (l, n) in zip(h['label'], h['n_samples_per_record'])\n",
        "     if l != EVENT_CHANNEL])\n",
        "  assert nsamp.size == 1, 'Multiple sample rates not supported!'\n",
        "  sample_rate = float(nsamp[0]) / h['record_length']\n",
        "  rectime, X, annotations = zip(*reader.records())\n",
        "  X = np.hstack(X)\n",
        "  annotations = reduce(operator.add, annotations)\n",
        "  chan_lab = [lab for lab in reader.header['label'] if lab != EVENT_CHANNEL]\n",
        "  # create timestamps\n",
        "  if reader.header['contiguous']:\n",
        "    time = np.arange(X.shape[1]) / sample_rate\n",
        "  else:\n",
        "    reclen = reader.header['record_length']\n",
        "    within_rec_time = np.linspace(0, reclen, nsamp, endpoint=False)\n",
        "    time = np.hstack([t + within_rec_time for t in rectime])\n",
        "  tup = namedtuple('EDF', 'X sample_rate chan_lab time annotations')\n",
        "  return tup(X, sample_rate, chan_lab, time, annotations)"
      ],
      "execution_count": 4,
      "outputs": []
    },
    {
      "cell_type": "code",
      "metadata": {
        "id": "eZUn9u4eiLzP"
      },
      "source": [
        "import ntpath\n",
        "import random, os, sys\n",
        "import numpy as np\n",
        "import pandas as pd\n",
        "import matplotlib.pyplot as plt\n",
        "import seaborn as sns\n",
        "import mne\n",
        "from mne.datasets.sleep_physionet._utils import _fetch_one, _data_path, AGE_SLEEP_RECORDS, _check_subjects\n",
        "from datetime import datetime"
      ],
      "execution_count": 5,
      "outputs": []
    },
    {
      "cell_type": "code",
      "metadata": {
        "colab": {
          "base_uri": "https://localhost:8080/"
        },
        "id": "52KplZzjbkzc",
        "outputId": "84dc0e37-7c7e-4b10-e8ca-d620fb2051d1"
      },
      "source": [
        "W = 0\n",
        "N1 = 1\n",
        "N2 = 2\n",
        "N3 = 3\n",
        "REM = 4\n",
        "UNKNOWN = 5\n",
        "\n",
        "label_dict = {\n",
        "    \"W\": W,\n",
        "    \"N1\": N1,\n",
        "    \"N2\": N2,\n",
        "    \"N3\": N3,\n",
        "    \"REM\": REM,\n",
        "    \"UNKNOWN\": UNKNOWN\n",
        "}\n",
        "\n",
        "class_dict = {\n",
        "    0: \"W\",\n",
        "    1: \"N1\",\n",
        "    2: \"N2\",\n",
        "    3: \"N3\",\n",
        "    4: \"REM\",\n",
        "    5: \"UNKNOWN\"\n",
        "}\n",
        "\n",
        "annot2label = {\n",
        "    \"Sleep stage W\": 0,\n",
        "    \"Sleep stage 1\": 1,\n",
        "    \"Sleep stage 2\": 2,\n",
        "    \"Sleep stage 3\": 3,\n",
        "    \"Sleep stage 4\": 3,\n",
        "    \"Sleep stage R\": 4,\n",
        "    \"Sleep stage ?\": 5,\n",
        "    \"Movement time\": 5\n",
        "}\n",
        "project_path = os.path.abspath(os.getcwd())+'/drive/MyDrive'\n",
        "print(project_path)\n",
        "\n"
      ],
      "execution_count": 6,
      "outputs": [
        {
          "output_type": "stream",
          "text": [
            "/content/drive/MyDrive\n"
          ],
          "name": "stdout"
        }
      ]
    },
    {
      "cell_type": "code",
      "metadata": {
        "id": "S0fF6hB4jFmr"
      },
      "source": [
        "data_path = _data_path\n",
        "input_dir=\"/content/drive/MyDrive/physionet-sleep-data/\"\n",
        "BASE_URL = 'https://physionet.org/physiobank/database/sleep-edfx/sleep-cassette/'\n",
        "def fetch_data(subjects, recording=[1, 2], path=None, force_update=False,\n",
        "               update_path=None, base_url=BASE_URL,\n",
        "               verbose=None):  # noqa: D301\n",
        "    records = np.loadtxt(AGE_SLEEP_RECORDS,\n",
        "                         skiprows=1,\n",
        "                         delimiter=',',\n",
        "                         usecols=(0, 1, 2, 6, 7),\n",
        "                         dtype={'names': ('subject', 'record', 'type', 'sha',\n",
        "                                          'fname'),\n",
        "                                'formats': ('<i2', 'i1', '<S9', 'S40', '<S22')}\n",
        "                         )\n",
        "    psg_records = records[np.where(records['type'] == b'PSG')]\n",
        "    hyp_records = records[np.where(records['type'] == b'Hypnogram')]\n",
        "\n",
        "    path = data_path(path=path, update_path=update_path)\n",
        "    params = [path, force_update, base_url]\n",
        "    fnames = []\n",
        "    for subject in subjects:\n",
        "        for idx in np.where(psg_records['subject'] == subject)[0]:\n",
        "            if psg_records['record'][idx] in recording:\n",
        "                psg_fname = psg_records['fname'][idx].decode()\n",
        "                                      # _fetch_one(psg_records['fname'][idx].decode(),\n",
        "                                      #  psg_records['sha'][idx].decode(),\n",
        "                                      #  *params)\n",
        "                hyp_fname = hyp_records['fname'][idx].decode()\n",
        "                # _fetch_one(hyp_records['fname'][idx].decode(),\n",
        "                #                        hyp_records['sha'][idx].decode(),\n",
        "                #                        *params)\n",
        "                print(input_dir+psg_fname,input_dir+hyp_fname)\n",
        "                fnames.append([psg_fname, hyp_fname])\n",
        "\n",
        "    return fnames"
      ],
      "execution_count": 7,
      "outputs": []
    },
    {
      "cell_type": "code",
      "metadata": {
        "id": "OprhG6vAj686",
        "colab": {
          "base_uri": "https://localhost:8080/"
        },
        "outputId": "98d39ee4-0573-496c-d370-2181efcf0c1d"
      },
      "source": [
        "subjects_list = []  # list to keep the address of the subject data\n",
        "except_sub = [13, 36, 52]  # omitting the subjects with incomplete data \n",
        "for i in range(83):\n",
        "    if i in except_sub:\n",
        "        continue\n",
        "    subjects_list.append(i)\n",
        "# fetching data of each subject and \n",
        "subject_files = fetch_data(subjects=subjects_list, recording=[1, 2], path= project_path) "
      ],
      "execution_count": 8,
      "outputs": [
        {
          "output_type": "stream",
          "text": [
            "/content/drive/MyDrive/physionet-sleep-data/SC4001E0-PSG.edf /content/drive/MyDrive/physionet-sleep-data/SC4001EC-Hypnogram.edf\n",
            "/content/drive/MyDrive/physionet-sleep-data/SC4002E0-PSG.edf /content/drive/MyDrive/physionet-sleep-data/SC4002EC-Hypnogram.edf\n",
            "/content/drive/MyDrive/physionet-sleep-data/SC4011E0-PSG.edf /content/drive/MyDrive/physionet-sleep-data/SC4011EH-Hypnogram.edf\n",
            "/content/drive/MyDrive/physionet-sleep-data/SC4012E0-PSG.edf /content/drive/MyDrive/physionet-sleep-data/SC4012EC-Hypnogram.edf\n",
            "/content/drive/MyDrive/physionet-sleep-data/SC4021E0-PSG.edf /content/drive/MyDrive/physionet-sleep-data/SC4021EH-Hypnogram.edf\n",
            "/content/drive/MyDrive/physionet-sleep-data/SC4022E0-PSG.edf /content/drive/MyDrive/physionet-sleep-data/SC4022EJ-Hypnogram.edf\n",
            "/content/drive/MyDrive/physionet-sleep-data/SC4031E0-PSG.edf /content/drive/MyDrive/physionet-sleep-data/SC4031EC-Hypnogram.edf\n",
            "/content/drive/MyDrive/physionet-sleep-data/SC4032E0-PSG.edf /content/drive/MyDrive/physionet-sleep-data/SC4032EP-Hypnogram.edf\n",
            "/content/drive/MyDrive/physionet-sleep-data/SC4041E0-PSG.edf /content/drive/MyDrive/physionet-sleep-data/SC4041EC-Hypnogram.edf\n",
            "/content/drive/MyDrive/physionet-sleep-data/SC4042E0-PSG.edf /content/drive/MyDrive/physionet-sleep-data/SC4042EC-Hypnogram.edf\n",
            "/content/drive/MyDrive/physionet-sleep-data/SC4051E0-PSG.edf /content/drive/MyDrive/physionet-sleep-data/SC4051EC-Hypnogram.edf\n",
            "/content/drive/MyDrive/physionet-sleep-data/SC4052E0-PSG.edf /content/drive/MyDrive/physionet-sleep-data/SC4052EC-Hypnogram.edf\n",
            "/content/drive/MyDrive/physionet-sleep-data/SC4061E0-PSG.edf /content/drive/MyDrive/physionet-sleep-data/SC4061EC-Hypnogram.edf\n",
            "/content/drive/MyDrive/physionet-sleep-data/SC4062E0-PSG.edf /content/drive/MyDrive/physionet-sleep-data/SC4062EC-Hypnogram.edf\n",
            "/content/drive/MyDrive/physionet-sleep-data/SC4071E0-PSG.edf /content/drive/MyDrive/physionet-sleep-data/SC4071EC-Hypnogram.edf\n",
            "/content/drive/MyDrive/physionet-sleep-data/SC4072E0-PSG.edf /content/drive/MyDrive/physionet-sleep-data/SC4072EH-Hypnogram.edf\n",
            "/content/drive/MyDrive/physionet-sleep-data/SC4081E0-PSG.edf /content/drive/MyDrive/physionet-sleep-data/SC4081EC-Hypnogram.edf\n",
            "/content/drive/MyDrive/physionet-sleep-data/SC4082E0-PSG.edf /content/drive/MyDrive/physionet-sleep-data/SC4082EP-Hypnogram.edf\n",
            "/content/drive/MyDrive/physionet-sleep-data/SC4091E0-PSG.edf /content/drive/MyDrive/physionet-sleep-data/SC4091EC-Hypnogram.edf\n",
            "/content/drive/MyDrive/physionet-sleep-data/SC4092E0-PSG.edf /content/drive/MyDrive/physionet-sleep-data/SC4092EC-Hypnogram.edf\n",
            "/content/drive/MyDrive/physionet-sleep-data/SC4101E0-PSG.edf /content/drive/MyDrive/physionet-sleep-data/SC4101EC-Hypnogram.edf\n",
            "/content/drive/MyDrive/physionet-sleep-data/SC4102E0-PSG.edf /content/drive/MyDrive/physionet-sleep-data/SC4102EC-Hypnogram.edf\n",
            "/content/drive/MyDrive/physionet-sleep-data/SC4111E0-PSG.edf /content/drive/MyDrive/physionet-sleep-data/SC4111EC-Hypnogram.edf\n",
            "/content/drive/MyDrive/physionet-sleep-data/SC4112E0-PSG.edf /content/drive/MyDrive/physionet-sleep-data/SC4112EC-Hypnogram.edf\n",
            "/content/drive/MyDrive/physionet-sleep-data/SC4121E0-PSG.edf /content/drive/MyDrive/physionet-sleep-data/SC4121EC-Hypnogram.edf\n",
            "/content/drive/MyDrive/physionet-sleep-data/SC4122E0-PSG.edf /content/drive/MyDrive/physionet-sleep-data/SC4122EV-Hypnogram.edf\n",
            "/content/drive/MyDrive/physionet-sleep-data/SC4141E0-PSG.edf /content/drive/MyDrive/physionet-sleep-data/SC4141EU-Hypnogram.edf\n",
            "/content/drive/MyDrive/physionet-sleep-data/SC4142E0-PSG.edf /content/drive/MyDrive/physionet-sleep-data/SC4142EU-Hypnogram.edf\n",
            "/content/drive/MyDrive/physionet-sleep-data/SC4151E0-PSG.edf /content/drive/MyDrive/physionet-sleep-data/SC4151EC-Hypnogram.edf\n",
            "/content/drive/MyDrive/physionet-sleep-data/SC4152E0-PSG.edf /content/drive/MyDrive/physionet-sleep-data/SC4152EC-Hypnogram.edf\n",
            "/content/drive/MyDrive/physionet-sleep-data/SC4161E0-PSG.edf /content/drive/MyDrive/physionet-sleep-data/SC4161EC-Hypnogram.edf\n",
            "/content/drive/MyDrive/physionet-sleep-data/SC4162E0-PSG.edf /content/drive/MyDrive/physionet-sleep-data/SC4162EC-Hypnogram.edf\n",
            "/content/drive/MyDrive/physionet-sleep-data/SC4171E0-PSG.edf /content/drive/MyDrive/physionet-sleep-data/SC4171EU-Hypnogram.edf\n",
            "/content/drive/MyDrive/physionet-sleep-data/SC4172E0-PSG.edf /content/drive/MyDrive/physionet-sleep-data/SC4172EC-Hypnogram.edf\n",
            "/content/drive/MyDrive/physionet-sleep-data/SC4181E0-PSG.edf /content/drive/MyDrive/physionet-sleep-data/SC4181EC-Hypnogram.edf\n",
            "/content/drive/MyDrive/physionet-sleep-data/SC4182E0-PSG.edf /content/drive/MyDrive/physionet-sleep-data/SC4182EC-Hypnogram.edf\n",
            "/content/drive/MyDrive/physionet-sleep-data/SC4191E0-PSG.edf /content/drive/MyDrive/physionet-sleep-data/SC4191EP-Hypnogram.edf\n",
            "/content/drive/MyDrive/physionet-sleep-data/SC4192E0-PSG.edf /content/drive/MyDrive/physionet-sleep-data/SC4192EV-Hypnogram.edf\n",
            "/content/drive/MyDrive/physionet-sleep-data/SC4201E0-PSG.edf /content/drive/MyDrive/physionet-sleep-data/SC4201EC-Hypnogram.edf\n",
            "/content/drive/MyDrive/physionet-sleep-data/SC4202E0-PSG.edf /content/drive/MyDrive/physionet-sleep-data/SC4202EC-Hypnogram.edf\n",
            "/content/drive/MyDrive/physionet-sleep-data/SC4211E0-PSG.edf /content/drive/MyDrive/physionet-sleep-data/SC4211EC-Hypnogram.edf\n",
            "/content/drive/MyDrive/physionet-sleep-data/SC4212E0-PSG.edf /content/drive/MyDrive/physionet-sleep-data/SC4212EC-Hypnogram.edf\n",
            "/content/drive/MyDrive/physionet-sleep-data/SC4221E0-PSG.edf /content/drive/MyDrive/physionet-sleep-data/SC4221EJ-Hypnogram.edf\n",
            "/content/drive/MyDrive/physionet-sleep-data/SC4222E0-PSG.edf /content/drive/MyDrive/physionet-sleep-data/SC4222EC-Hypnogram.edf\n",
            "/content/drive/MyDrive/physionet-sleep-data/SC4231E0-PSG.edf /content/drive/MyDrive/physionet-sleep-data/SC4231EJ-Hypnogram.edf\n",
            "/content/drive/MyDrive/physionet-sleep-data/SC4232E0-PSG.edf /content/drive/MyDrive/physionet-sleep-data/SC4232EV-Hypnogram.edf\n",
            "/content/drive/MyDrive/physionet-sleep-data/SC4241E0-PSG.edf /content/drive/MyDrive/physionet-sleep-data/SC4241EC-Hypnogram.edf\n",
            "/content/drive/MyDrive/physionet-sleep-data/SC4242E0-PSG.edf /content/drive/MyDrive/physionet-sleep-data/SC4242EA-Hypnogram.edf\n",
            "/content/drive/MyDrive/physionet-sleep-data/SC4251E0-PSG.edf /content/drive/MyDrive/physionet-sleep-data/SC4251EP-Hypnogram.edf\n",
            "/content/drive/MyDrive/physionet-sleep-data/SC4252E0-PSG.edf /content/drive/MyDrive/physionet-sleep-data/SC4252EU-Hypnogram.edf\n",
            "/content/drive/MyDrive/physionet-sleep-data/SC4261F0-PSG.edf /content/drive/MyDrive/physionet-sleep-data/SC4261FM-Hypnogram.edf\n",
            "/content/drive/MyDrive/physionet-sleep-data/SC4262F0-PSG.edf /content/drive/MyDrive/physionet-sleep-data/SC4262FC-Hypnogram.edf\n",
            "/content/drive/MyDrive/physionet-sleep-data/SC4271F0-PSG.edf /content/drive/MyDrive/physionet-sleep-data/SC4271FC-Hypnogram.edf\n",
            "/content/drive/MyDrive/physionet-sleep-data/SC4272F0-PSG.edf /content/drive/MyDrive/physionet-sleep-data/SC4272FM-Hypnogram.edf\n",
            "/content/drive/MyDrive/physionet-sleep-data/SC4281G0-PSG.edf /content/drive/MyDrive/physionet-sleep-data/SC4281GC-Hypnogram.edf\n",
            "/content/drive/MyDrive/physionet-sleep-data/SC4282G0-PSG.edf /content/drive/MyDrive/physionet-sleep-data/SC4282GC-Hypnogram.edf\n",
            "/content/drive/MyDrive/physionet-sleep-data/SC4291G0-PSG.edf /content/drive/MyDrive/physionet-sleep-data/SC4291GA-Hypnogram.edf\n",
            "/content/drive/MyDrive/physionet-sleep-data/SC4292G0-PSG.edf /content/drive/MyDrive/physionet-sleep-data/SC4292GC-Hypnogram.edf\n",
            "/content/drive/MyDrive/physionet-sleep-data/SC4301E0-PSG.edf /content/drive/MyDrive/physionet-sleep-data/SC4301EC-Hypnogram.edf\n",
            "/content/drive/MyDrive/physionet-sleep-data/SC4302E0-PSG.edf /content/drive/MyDrive/physionet-sleep-data/SC4302EV-Hypnogram.edf\n",
            "/content/drive/MyDrive/physionet-sleep-data/SC4311E0-PSG.edf /content/drive/MyDrive/physionet-sleep-data/SC4311EC-Hypnogram.edf\n",
            "/content/drive/MyDrive/physionet-sleep-data/SC4312E0-PSG.edf /content/drive/MyDrive/physionet-sleep-data/SC4312EM-Hypnogram.edf\n",
            "/content/drive/MyDrive/physionet-sleep-data/SC4321E0-PSG.edf /content/drive/MyDrive/physionet-sleep-data/SC4321EC-Hypnogram.edf\n",
            "/content/drive/MyDrive/physionet-sleep-data/SC4322E0-PSG.edf /content/drive/MyDrive/physionet-sleep-data/SC4322EC-Hypnogram.edf\n",
            "/content/drive/MyDrive/physionet-sleep-data/SC4331F0-PSG.edf /content/drive/MyDrive/physionet-sleep-data/SC4331FV-Hypnogram.edf\n",
            "/content/drive/MyDrive/physionet-sleep-data/SC4332F0-PSG.edf /content/drive/MyDrive/physionet-sleep-data/SC4332FC-Hypnogram.edf\n",
            "/content/drive/MyDrive/physionet-sleep-data/SC4341F0-PSG.edf /content/drive/MyDrive/physionet-sleep-data/SC4341FA-Hypnogram.edf\n",
            "/content/drive/MyDrive/physionet-sleep-data/SC4342F0-PSG.edf /content/drive/MyDrive/physionet-sleep-data/SC4342FA-Hypnogram.edf\n",
            "/content/drive/MyDrive/physionet-sleep-data/SC4351F0-PSG.edf /content/drive/MyDrive/physionet-sleep-data/SC4351FA-Hypnogram.edf\n",
            "/content/drive/MyDrive/physionet-sleep-data/SC4352F0-PSG.edf /content/drive/MyDrive/physionet-sleep-data/SC4352FV-Hypnogram.edf\n",
            "/content/drive/MyDrive/physionet-sleep-data/SC4371F0-PSG.edf /content/drive/MyDrive/physionet-sleep-data/SC4371FA-Hypnogram.edf\n",
            "/content/drive/MyDrive/physionet-sleep-data/SC4372F0-PSG.edf /content/drive/MyDrive/physionet-sleep-data/SC4372FC-Hypnogram.edf\n",
            "/content/drive/MyDrive/physionet-sleep-data/SC4381F0-PSG.edf /content/drive/MyDrive/physionet-sleep-data/SC4381FC-Hypnogram.edf\n",
            "/content/drive/MyDrive/physionet-sleep-data/SC4382F0-PSG.edf /content/drive/MyDrive/physionet-sleep-data/SC4382FW-Hypnogram.edf\n",
            "/content/drive/MyDrive/physionet-sleep-data/SC4401E0-PSG.edf /content/drive/MyDrive/physionet-sleep-data/SC4401EC-Hypnogram.edf\n",
            "/content/drive/MyDrive/physionet-sleep-data/SC4402E0-PSG.edf /content/drive/MyDrive/physionet-sleep-data/SC4402EW-Hypnogram.edf\n",
            "/content/drive/MyDrive/physionet-sleep-data/SC4411E0-PSG.edf /content/drive/MyDrive/physionet-sleep-data/SC4411EJ-Hypnogram.edf\n",
            "/content/drive/MyDrive/physionet-sleep-data/SC4412E0-PSG.edf /content/drive/MyDrive/physionet-sleep-data/SC4412EM-Hypnogram.edf\n",
            "/content/drive/MyDrive/physionet-sleep-data/SC4421E0-PSG.edf /content/drive/MyDrive/physionet-sleep-data/SC4421EA-Hypnogram.edf\n",
            "/content/drive/MyDrive/physionet-sleep-data/SC4422E0-PSG.edf /content/drive/MyDrive/physionet-sleep-data/SC4422EA-Hypnogram.edf\n",
            "/content/drive/MyDrive/physionet-sleep-data/SC4431E0-PSG.edf /content/drive/MyDrive/physionet-sleep-data/SC4431EM-Hypnogram.edf\n",
            "/content/drive/MyDrive/physionet-sleep-data/SC4432E0-PSG.edf /content/drive/MyDrive/physionet-sleep-data/SC4432EM-Hypnogram.edf\n",
            "/content/drive/MyDrive/physionet-sleep-data/SC4441E0-PSG.edf /content/drive/MyDrive/physionet-sleep-data/SC4441EC-Hypnogram.edf\n",
            "/content/drive/MyDrive/physionet-sleep-data/SC4442E0-PSG.edf /content/drive/MyDrive/physionet-sleep-data/SC4442EV-Hypnogram.edf\n",
            "/content/drive/MyDrive/physionet-sleep-data/SC4451F0-PSG.edf /content/drive/MyDrive/physionet-sleep-data/SC4451FY-Hypnogram.edf\n",
            "/content/drive/MyDrive/physionet-sleep-data/SC4452F0-PSG.edf /content/drive/MyDrive/physionet-sleep-data/SC4452FW-Hypnogram.edf\n",
            "/content/drive/MyDrive/physionet-sleep-data/SC4461F0-PSG.edf /content/drive/MyDrive/physionet-sleep-data/SC4461FA-Hypnogram.edf\n",
            "/content/drive/MyDrive/physionet-sleep-data/SC4462F0-PSG.edf /content/drive/MyDrive/physionet-sleep-data/SC4462FJ-Hypnogram.edf\n",
            "/content/drive/MyDrive/physionet-sleep-data/SC4471F0-PSG.edf /content/drive/MyDrive/physionet-sleep-data/SC4471FA-Hypnogram.edf\n",
            "/content/drive/MyDrive/physionet-sleep-data/SC4472F0-PSG.edf /content/drive/MyDrive/physionet-sleep-data/SC4472FA-Hypnogram.edf\n",
            "/content/drive/MyDrive/physionet-sleep-data/SC4481F0-PSG.edf /content/drive/MyDrive/physionet-sleep-data/SC4481FV-Hypnogram.edf\n",
            "/content/drive/MyDrive/physionet-sleep-data/SC4482F0-PSG.edf /content/drive/MyDrive/physionet-sleep-data/SC4482FJ-Hypnogram.edf\n",
            "/content/drive/MyDrive/physionet-sleep-data/SC4491G0-PSG.edf /content/drive/MyDrive/physionet-sleep-data/SC4491GJ-Hypnogram.edf\n",
            "/content/drive/MyDrive/physionet-sleep-data/SC4492G0-PSG.edf /content/drive/MyDrive/physionet-sleep-data/SC4492GJ-Hypnogram.edf\n",
            "/content/drive/MyDrive/physionet-sleep-data/SC4501E0-PSG.edf /content/drive/MyDrive/physionet-sleep-data/SC4501EW-Hypnogram.edf\n",
            "/content/drive/MyDrive/physionet-sleep-data/SC4502E0-PSG.edf /content/drive/MyDrive/physionet-sleep-data/SC4502EM-Hypnogram.edf\n",
            "/content/drive/MyDrive/physionet-sleep-data/SC4511E0-PSG.edf /content/drive/MyDrive/physionet-sleep-data/SC4511EJ-Hypnogram.edf\n",
            "/content/drive/MyDrive/physionet-sleep-data/SC4512E0-PSG.edf /content/drive/MyDrive/physionet-sleep-data/SC4512EW-Hypnogram.edf\n",
            "/content/drive/MyDrive/physionet-sleep-data/SC4531E0-PSG.edf /content/drive/MyDrive/physionet-sleep-data/SC4531EM-Hypnogram.edf\n",
            "/content/drive/MyDrive/physionet-sleep-data/SC4532E0-PSG.edf /content/drive/MyDrive/physionet-sleep-data/SC4532EV-Hypnogram.edf\n",
            "/content/drive/MyDrive/physionet-sleep-data/SC4541F0-PSG.edf /content/drive/MyDrive/physionet-sleep-data/SC4541FA-Hypnogram.edf\n",
            "/content/drive/MyDrive/physionet-sleep-data/SC4542F0-PSG.edf /content/drive/MyDrive/physionet-sleep-data/SC4542FW-Hypnogram.edf\n",
            "/content/drive/MyDrive/physionet-sleep-data/SC4551F0-PSG.edf /content/drive/MyDrive/physionet-sleep-data/SC4551FC-Hypnogram.edf\n",
            "/content/drive/MyDrive/physionet-sleep-data/SC4552F0-PSG.edf /content/drive/MyDrive/physionet-sleep-data/SC4552FW-Hypnogram.edf\n",
            "/content/drive/MyDrive/physionet-sleep-data/SC4561F0-PSG.edf /content/drive/MyDrive/physionet-sleep-data/SC4561FJ-Hypnogram.edf\n",
            "/content/drive/MyDrive/physionet-sleep-data/SC4562F0-PSG.edf /content/drive/MyDrive/physionet-sleep-data/SC4562FJ-Hypnogram.edf\n",
            "/content/drive/MyDrive/physionet-sleep-data/SC4571F0-PSG.edf /content/drive/MyDrive/physionet-sleep-data/SC4571FV-Hypnogram.edf\n",
            "/content/drive/MyDrive/physionet-sleep-data/SC4572F0-PSG.edf /content/drive/MyDrive/physionet-sleep-data/SC4572FC-Hypnogram.edf\n",
            "/content/drive/MyDrive/physionet-sleep-data/SC4581G0-PSG.edf /content/drive/MyDrive/physionet-sleep-data/SC4581GM-Hypnogram.edf\n",
            "/content/drive/MyDrive/physionet-sleep-data/SC4582G0-PSG.edf /content/drive/MyDrive/physionet-sleep-data/SC4582GP-Hypnogram.edf\n",
            "/content/drive/MyDrive/physionet-sleep-data/SC4591G0-PSG.edf /content/drive/MyDrive/physionet-sleep-data/SC4591GY-Hypnogram.edf\n",
            "/content/drive/MyDrive/physionet-sleep-data/SC4592G0-PSG.edf /content/drive/MyDrive/physionet-sleep-data/SC4592GY-Hypnogram.edf\n",
            "/content/drive/MyDrive/physionet-sleep-data/SC4601E0-PSG.edf /content/drive/MyDrive/physionet-sleep-data/SC4601EC-Hypnogram.edf\n",
            "/content/drive/MyDrive/physionet-sleep-data/SC4602E0-PSG.edf /content/drive/MyDrive/physionet-sleep-data/SC4602EJ-Hypnogram.edf\n",
            "/content/drive/MyDrive/physionet-sleep-data/SC4611E0-PSG.edf /content/drive/MyDrive/physionet-sleep-data/SC4611EG-Hypnogram.edf\n",
            "/content/drive/MyDrive/physionet-sleep-data/SC4612E0-PSG.edf /content/drive/MyDrive/physionet-sleep-data/SC4612EA-Hypnogram.edf\n",
            "/content/drive/MyDrive/physionet-sleep-data/SC4621E0-PSG.edf /content/drive/MyDrive/physionet-sleep-data/SC4621EV-Hypnogram.edf\n",
            "/content/drive/MyDrive/physionet-sleep-data/SC4622E0-PSG.edf /content/drive/MyDrive/physionet-sleep-data/SC4622EJ-Hypnogram.edf\n",
            "/content/drive/MyDrive/physionet-sleep-data/SC4631E0-PSG.edf /content/drive/MyDrive/physionet-sleep-data/SC4631EM-Hypnogram.edf\n",
            "/content/drive/MyDrive/physionet-sleep-data/SC4632E0-PSG.edf /content/drive/MyDrive/physionet-sleep-data/SC4632EA-Hypnogram.edf\n",
            "/content/drive/MyDrive/physionet-sleep-data/SC4641E0-PSG.edf /content/drive/MyDrive/physionet-sleep-data/SC4641EP-Hypnogram.edf\n",
            "/content/drive/MyDrive/physionet-sleep-data/SC4642E0-PSG.edf /content/drive/MyDrive/physionet-sleep-data/SC4642EP-Hypnogram.edf\n",
            "/content/drive/MyDrive/physionet-sleep-data/SC4651E0-PSG.edf /content/drive/MyDrive/physionet-sleep-data/SC4651EP-Hypnogram.edf\n",
            "/content/drive/MyDrive/physionet-sleep-data/SC4652E0-PSG.edf /content/drive/MyDrive/physionet-sleep-data/SC4652EG-Hypnogram.edf\n",
            "/content/drive/MyDrive/physionet-sleep-data/SC4661E0-PSG.edf /content/drive/MyDrive/physionet-sleep-data/SC4661EJ-Hypnogram.edf\n",
            "/content/drive/MyDrive/physionet-sleep-data/SC4662E0-PSG.edf /content/drive/MyDrive/physionet-sleep-data/SC4662EJ-Hypnogram.edf\n",
            "/content/drive/MyDrive/physionet-sleep-data/SC4671G0-PSG.edf /content/drive/MyDrive/physionet-sleep-data/SC4671GJ-Hypnogram.edf\n",
            "/content/drive/MyDrive/physionet-sleep-data/SC4672G0-PSG.edf /content/drive/MyDrive/physionet-sleep-data/SC4672GV-Hypnogram.edf\n",
            "/content/drive/MyDrive/physionet-sleep-data/SC4701E0-PSG.edf /content/drive/MyDrive/physionet-sleep-data/SC4701EC-Hypnogram.edf\n",
            "/content/drive/MyDrive/physionet-sleep-data/SC4702E0-PSG.edf /content/drive/MyDrive/physionet-sleep-data/SC4702EA-Hypnogram.edf\n",
            "/content/drive/MyDrive/physionet-sleep-data/SC4711E0-PSG.edf /content/drive/MyDrive/physionet-sleep-data/SC4711EC-Hypnogram.edf\n",
            "/content/drive/MyDrive/physionet-sleep-data/SC4712E0-PSG.edf /content/drive/MyDrive/physionet-sleep-data/SC4712EA-Hypnogram.edf\n",
            "/content/drive/MyDrive/physionet-sleep-data/SC4721E0-PSG.edf /content/drive/MyDrive/physionet-sleep-data/SC4721EC-Hypnogram.edf\n",
            "/content/drive/MyDrive/physionet-sleep-data/SC4722E0-PSG.edf /content/drive/MyDrive/physionet-sleep-data/SC4722EM-Hypnogram.edf\n",
            "/content/drive/MyDrive/physionet-sleep-data/SC4731E0-PSG.edf /content/drive/MyDrive/physionet-sleep-data/SC4731EM-Hypnogram.edf\n",
            "/content/drive/MyDrive/physionet-sleep-data/SC4732E0-PSG.edf /content/drive/MyDrive/physionet-sleep-data/SC4732EJ-Hypnogram.edf\n",
            "/content/drive/MyDrive/physionet-sleep-data/SC4741E0-PSG.edf /content/drive/MyDrive/physionet-sleep-data/SC4741EA-Hypnogram.edf\n",
            "/content/drive/MyDrive/physionet-sleep-data/SC4742E0-PSG.edf /content/drive/MyDrive/physionet-sleep-data/SC4742EC-Hypnogram.edf\n",
            "/content/drive/MyDrive/physionet-sleep-data/SC4751E0-PSG.edf /content/drive/MyDrive/physionet-sleep-data/SC4751EC-Hypnogram.edf\n",
            "/content/drive/MyDrive/physionet-sleep-data/SC4752E0-PSG.edf /content/drive/MyDrive/physionet-sleep-data/SC4752EM-Hypnogram.edf\n",
            "/content/drive/MyDrive/physionet-sleep-data/SC4761E0-PSG.edf /content/drive/MyDrive/physionet-sleep-data/SC4761EP-Hypnogram.edf\n",
            "/content/drive/MyDrive/physionet-sleep-data/SC4762E0-PSG.edf /content/drive/MyDrive/physionet-sleep-data/SC4762EG-Hypnogram.edf\n",
            "/content/drive/MyDrive/physionet-sleep-data/SC4771G0-PSG.edf /content/drive/MyDrive/physionet-sleep-data/SC4771GC-Hypnogram.edf\n",
            "/content/drive/MyDrive/physionet-sleep-data/SC4772G0-PSG.edf /content/drive/MyDrive/physionet-sleep-data/SC4772GC-Hypnogram.edf\n",
            "/content/drive/MyDrive/physionet-sleep-data/SC4801G0-PSG.edf /content/drive/MyDrive/physionet-sleep-data/SC4801GC-Hypnogram.edf\n",
            "/content/drive/MyDrive/physionet-sleep-data/SC4802G0-PSG.edf /content/drive/MyDrive/physionet-sleep-data/SC4802GV-Hypnogram.edf\n",
            "/content/drive/MyDrive/physionet-sleep-data/SC4811G0-PSG.edf /content/drive/MyDrive/physionet-sleep-data/SC4811GG-Hypnogram.edf\n",
            "/content/drive/MyDrive/physionet-sleep-data/SC4812G0-PSG.edf /content/drive/MyDrive/physionet-sleep-data/SC4812GV-Hypnogram.edf\n",
            "/content/drive/MyDrive/physionet-sleep-data/SC4821G0-PSG.edf /content/drive/MyDrive/physionet-sleep-data/SC4821GC-Hypnogram.edf\n",
            "/content/drive/MyDrive/physionet-sleep-data/SC4822G0-PSG.edf /content/drive/MyDrive/physionet-sleep-data/SC4822GC-Hypnogram.edf\n"
          ],
          "name": "stdout"
        }
      ]
    },
    {
      "cell_type": "code",
      "metadata": {
        "id": "EhoqPhh8kEx0"
      },
      "source": [
        "from tqdm.notebook import tqdm\n",
        "from mne import Epochs, pick_types, find_events\n",
        "from mne.io import concatenate_raws, read_raw_edf\n",
        "from mne.time_frequency import psd_welch\n",
        "\n",
        "mapping = {'EOG horizontal': 'eog',\n",
        "           'Resp oro-nasal': 'misc',\n",
        "           'EMG submental': 'misc',\n",
        "           'Temp rectal': 'misc',\n",
        "           'Event marker': 'misc'}\n",
        "VBS = True  # constant boolean to enable/disbale verbose\n",
        "EPOCH_SEC_SIZE = 30  # Epoch duration selection\n",
        "seed = 42  # seed value for the random seeds\n",
        "number_of_subj = 50           \n",
        "ch_labels =  ['EEG Fpz-Cz', 'EEG Pz-Oz']  # channels to be selected\n",
        "\n",
        "output_path = os.path.join(project_path, \"NPZ_files\")  # path to save the npz files\n",
        "# loop to preprocess input data and save the results in npz files to be used in our models later\n",
        "# for item in tqdm(subject_files):\n",
        "#     filename = ntpath.basename(item[0]).replace(\"-PSG.edf\", \".npz\")  # reading the PSG files\n",
        "#     if not os.path.exists(os.path.join(output_path, filename)):\n",
        "#         raw_train = mne.io.read_raw_edf(item[0], verbose=VBS)\n",
        "#         sampling_rate = raw_train.info['sfreq']\n",
        "#         raw_ch_df = raw_train.to_data_frame(scalings=100.0)[ch_labels]\n",
        "#         #raw_ch_df = raw_ch_df.to_frame()\n",
        "#         raw_ch_df.set_index(np.arange(len(raw_ch_df)))\n",
        "        \n",
        "#         # reading the raw headers using the EDFReader function from edfreader\n",
        "#         f = open(item[0], 'r', errors='ignore', encoding='utf-8')\n",
        "#         head_raw_read = BaseEDFReader(f)\n",
        "#         head_raw_read.read_header()\n",
        "#         head_raw = head_raw_read.header\n",
        "#         f.close()\n",
        "#         raw_start_time = datetime.strptime(head_raw['date_time'], \"%Y-%m-%d %H:%M:%S\")\n",
        "\n",
        "#         # read annotations from hypnogram file\n",
        "#         f = open(item[1], 'r')\n",
        "#         annot_raw_read = BaseEDFReader(f)\n",
        "#         annot_raw_read.read_header()\n",
        "#         annot_raw = annot_raw_read.header\n",
        "#         temp, temp, total_annot = zip(*annot_raw_read.records())\n",
        "#         f.close()\n",
        "#         annot_start_time = datetime.strptime(annot_raw['date_time'], \"%Y-%m-%d %H:%M:%S\")\n",
        "#         assert raw_start_time == annot_start_time  # making sure that the PSG files and hypnogram files are in sync\n",
        "#         remove_idx = []    # list to keep the indicies of data that will be removed\n",
        "#         labels = []        # list to keep the indicies of data that have labels\n",
        "#         label_idx = []\n",
        "        \n",
        "#         # selecting the indicies of known labels and adding the rest to remove_idx list\n",
        "#         for annot in total_annot[0]:\n",
        "#             onset_sec, duration_sec, annot_char = annot\n",
        "#             annot_str = \"\".join(annot_char)\n",
        "#             label = annot2label[annot_str]\n",
        "#             if label != UNKNOWN:\n",
        "#                 if duration_sec % EPOCH_SEC_SIZE != 0:\n",
        "#                     raise Exception(\"Please choose anothe epoch duration!\")\n",
        "#                 duration_epoch = int(duration_sec / EPOCH_SEC_SIZE)\n",
        "#                 label_epoch = np.ones(duration_epoch, dtype=np.int) * label\n",
        "#                 labels.append(label_epoch)\n",
        "#                 idx = int(onset_sec * sampling_rate) + np.arange(duration_sec * sampling_rate, dtype=np.int)\n",
        "#                 label_idx.append(idx)\n",
        "#             else:\n",
        "#                 idx = int(onset_sec * sampling_rate) + np.arange(duration_sec * sampling_rate, dtype=np.int)\n",
        "#                 remove_idx.append(idx)\n",
        "#         labels = np.hstack(labels)\n",
        "#         if len(remove_idx) > 0:\n",
        "#             remove_idx = np.hstack(remove_idx)\n",
        "#             select_idx = np.setdiff1d(np.arange(len(raw_ch_df)), remove_idx)\n",
        "#         else:\n",
        "#             select_idx = np.arange(len(raw_ch_df))\n",
        "\n",
        "#         # filtering data with labels only\n",
        "#         label_idx = np.hstack(label_idx)\n",
        "#         select_idx = np.intersect1d(select_idx, label_idx)\n",
        "\n",
        "#         # removing extra indicies\n",
        "#         if len(label_idx) > len(select_idx):\n",
        "#             extra_idx = np.setdiff1d(label_idx, select_idx)\n",
        "#             # trimming the tail\n",
        "#             if np.all(extra_idx > select_idx[-1]):\n",
        "#                 n_trims = len(select_idx) % int(EPOCH_SEC_SIZE * sampling_rate)\n",
        "#                 n_label_trims = int(math.ceil(n_trims / (EPOCH_SEC_SIZE * sampling_rate)))\n",
        "#                 select_idx = select_idx[:-n_trims]\n",
        "#                 labels = labels[:-n_label_trims]\n",
        "\n",
        "#         # removing all unknown and movement labels\n",
        "#         raw_ch = raw_ch_df.values[select_idx]\n",
        "\n",
        "#         # check if we can split into epochs' size\n",
        "#         if len(raw_ch) % (EPOCH_SEC_SIZE * sampling_rate) != 0:\n",
        "#             raise Exception(\"Please choose anothe epoch duration!\")\n",
        "#         n_epochs = len(raw_ch) / (EPOCH_SEC_SIZE * sampling_rate)\n",
        "\n",
        "#         # get epochs and their corresponding labels\n",
        "#         x = np.asarray(np.split(raw_ch, n_epochs)).astype(np.float32)\n",
        "#         y = labels.astype(np.int32)\n",
        "\n",
        "#         assert len(x) == len(y)\n",
        "\n",
        "#         # select on sleep periods\n",
        "#         w_edge_mins = 30\n",
        "#         nw_idx = np.where(y != label_dict[\"W\"])[0]\n",
        "#         start_idx = nw_idx[0] - (w_edge_mins * 2)\n",
        "#         end_idx = nw_idx[-1] + (w_edge_mins * 2)\n",
        "#         if start_idx < 0: start_idx = 0\n",
        "#         if end_idx >= len(y): end_idx = len(y) - 1\n",
        "#         select_idx = np.arange(start_idx, end_idx+1)\n",
        "#         x = x[select_idx]\n",
        "#         y = y[select_idx]\n",
        "\n",
        "#         # file structure for saving\n",
        "#         save_dict = {\n",
        "#             \"x\": x, \n",
        "#             \"y\": y, \n",
        "#             \"fs\": sampling_rate,\n",
        "#             \"ch_label\": ch_labels,\n",
        "#             \"header_raw\": head_raw,\n",
        "#             \"header_annotation\": annot_raw,\n",
        "#         }\n",
        "#         if not os.path.exists(output_path):\n",
        "#             os.makedirs(output_path)\n",
        "#         np.savez(os.path.join(output_path, filename), **save_dict)\n"
      ],
      "execution_count": 9,
      "outputs": []
    },
    {
      "cell_type": "code",
      "metadata": {
        "colab": {
          "base_uri": "https://localhost:8080/",
          "height": 66,
          "referenced_widgets": [
            "970619d098b9425ab045e51d10c43bb7",
            "944a25c62d264c53a84c8bb3fb7cb3eb",
            "eb12db1a2f9f49fe9e80c40bb0d6caac",
            "3f4c6a7f58964deba583ee5c6bfff991",
            "c68adf1ab2514574af9c93bb2ee124e7",
            "961c10d6554d4d61b12d5cb6bef2e991",
            "f2ee99131687448eba39b4c4e9d765ab",
            "828098ab52c448a38efc5bcddfa03f8f"
          ]
        },
        "id": "Ka721CCocDEO",
        "outputId": "a98e162d-acc7-4d64-a520-5dabce40b405"
      },
      "source": [
        "import glob\n",
        "npz_files = sorted(glob.glob(os.path.join(output_path, \"*.npz\")))\n",
        "X = np.zeros((0, 3000, 2)) # two channel 'EEG Fpz-Cz', 'EEG Pz-Oz'\n",
        "y = []\n",
        "for fn in tqdm(npz_files[:number_of_subj]):\n",
        "    samples = np.load(fn)\n",
        "    X_data = samples['x']\n",
        "    X = np.concatenate((X, X_data), axis=0)\n",
        "    y.extend(samples['y'])\n",
        "y = np.array(y)"
      ],
      "execution_count": 10,
      "outputs": [
        {
          "output_type": "display_data",
          "data": {
            "application/vnd.jupyter.widget-view+json": {
              "model_id": "970619d098b9425ab045e51d10c43bb7",
              "version_minor": 0,
              "version_major": 2
            },
            "text/plain": [
              "HBox(children=(FloatProgress(value=0.0, max=50.0), HTML(value='')))"
            ]
          },
          "metadata": {
            "tags": []
          }
        },
        {
          "output_type": "stream",
          "text": [
            "\n"
          ],
          "name": "stdout"
        }
      ]
    },
    {
      "cell_type": "code",
      "metadata": {
        "colab": {
          "base_uri": "https://localhost:8080/",
          "height": 296
        },
        "id": "4YBatatxC0Ft",
        "outputId": "fc412322-eca4-41e2-d862-f22e36bec098"
      },
      "source": [
        "pd.Series(y).value_counts().plot.bar()\n",
        "plt.title(\"Frequency of the labels in our dataset\")"
      ],
      "execution_count": 11,
      "outputs": [
        {
          "output_type": "execute_result",
          "data": {
            "text/plain": [
              "Text(0.5, 1.0, 'Frequency of the labels in our dataset')"
            ]
          },
          "metadata": {
            "tags": []
          },
          "execution_count": 11
        },
        {
          "output_type": "display_data",
          "data": {
            "image/png": "[encoded data removed]",
            "text/plain": [
              "<Figure size 432x288 with 1 Axes>"
            ]
          },
          "metadata": {
            "tags": [],
            "needs_background": "light"
          }
        }
      ]
    },
    {
      "cell_type": "code",
      "metadata": {
        "id": "-nbyX1tAXU8H"
      },
      "source": [
        "# print(y[60])\n",
        "# b1=np.squeeze(np.asarray(np.where(y==1)),axis=0)\n",
        "# b2=np.asarray(np.where(y==2))\n",
        "# print(b2.shape)\n",
        "# index2 = np.random.choice(np.squeeze(b2,axis=0), 4000, replace=False)\n",
        "# print(index2)\n",
        "# dd1=np.sort(np.concatenate((b1,index2)))\n",
        "# c=y[dd1]\n",
        "# pd.Series(c).value_counts().plot.bar()\n",
        "# plt.title(\"Frequency of the labels in our dataset\")\n",
        "\n",
        "# b2=np.asarray(np.where(y==2))\n",
        "# index2 = np.random.choice(np.squeeze(b2,axis=0), 3000, replace=False)\n",
        "# b0=np.asarray(np.where(y==0))\n",
        "# index0 = np.random.choice(np.squeeze(b0,axis=0), 2000, replace=False)\n",
        "# b4=np.asarray(np.where(y==4))\n",
        "# index4 = np.random.choice(np.squeeze(b4,axis=0), 1000, replace=False)\n",
        "# b1=np.squeeze(np.asarray(np.where(y==1)),axis=0)\n",
        "# #b3=np.squeeze(np.asarray(np.where(y==3)),axis=0)\n",
        "# b3=np.asarray(np.where(y==3))\n",
        "# index3 = np.random.choice(np.squeeze(b3,axis=0), 1000, replace=False)\n",
        "\n",
        "# print(index4.shape)\n",
        "# dd=np.concatenate((index2,index0,index4,b1,index3))\n",
        "# #dd=np.concatenate((index2,index0))\n",
        "# print(dd.shape)\n",
        "# final_list=dd.tolist()\n",
        "# print(final_list)\n",
        "# X=X[final_list,:,:]\n",
        "# y=y[final_list]\n",
        "# # print(a.shape)\n",
        "# # print(c)\n",
        "# pd.Series(y).value_counts().plot.bar()\n",
        "# plt.title(\"Frequency of the labels in our dataset\")"
      ],
      "execution_count": 12,
      "outputs": []
    },
    {
      "cell_type": "code",
      "metadata": {
        "id": "bmAzmQb6f8GM"
      },
      "source": [
        "\n",
        "# b1=np.squeeze(np.asarray(np.where(y==1)),axis=0)\n",
        "# print(b1)\n",
        "# #print(index4.shape)\n",
        "# #dd=np.concatenate((b1))\n",
        "# #dd=np.concatenate((index2,index0))\n",
        "# #print(dd.shape)\n",
        "# final_list=b1\n",
        "# print(final_list)\n",
        "# X1=X[final_list,:,:]\n",
        "# y1=y[final_list]\n",
        "# # print(a.shape)\n",
        "# # print(c)\n",
        "# pd.Series(y1).value_counts().plot.bar()\n",
        "# plt.title(\"Frequency of the labels in our dataset\")"
      ],
      "execution_count": 13,
      "outputs": []
    },
    {
      "cell_type": "code",
      "metadata": {
        "id": "U_oY8dq-g0j5"
      },
      "source": [
        "# print(y1)\n",
        "# pd.Series(y1).value_counts().plot.bar()\n",
        "# print(y)\n",
        "#pd.Series(y).value_counts().plot.bar()"
      ],
      "execution_count": 14,
      "outputs": []
    },
    {
      "cell_type": "code",
      "metadata": {
        "id": "wae28yvNKWL9"
      },
      "source": [
        "VBS = True "
      ],
      "execution_count": 15,
      "outputs": []
    },
    {
      "cell_type": "code",
      "metadata": {
        "colab": {
          "base_uri": "https://localhost:8080/"
        },
        "id": "ttdRNPedkoBT",
        "outputId": "18b4c25e-c16a-4a2a-ab9f-19ab485c112b"
      },
      "source": [
        "from sklearn.model_selection import train_test_split\n",
        "if VBS:\n",
        "    print(\"Shape of the input data: {}\".format(X.shape))\n",
        "    print(\"Shape of the sleep stages: {}\".format(y.shape))\n",
        "# splitting subjects\n",
        "X_train, X_test, Y_train, Y_test = train_test_split(X, y, test_size=0.1, random_state=seed)\n",
        "X_train_fpz_cz, X_test_fpz_cz, Y_train_fpz_cz, Y_test_fpz_cz = train_test_split(X[:,:,0:1], y, test_size=0.1, random_state=seed)\n",
        "X_train_pz_oz, X_test_pz_oz, Y_train_pz_oz, Y_test_pz_oz = train_test_split(X[:,:,1:2], y, test_size=0.1, random_state=seed)\n",
        "\n",
        "if VBS:\n",
        "    print(\"Shape of the training dataset:\\ntraining dataset: {}\\ntest dataset: {}\\n\"\n",
        "          .format(X_train.shape, X_test.shape))\n",
        "    print(\"Shape of the training dataset:\\ntraining fpz_cz dataset: {}\\ntest fpz_cz dataset: {}\\n\"\n",
        "          .format(X_train_fpz_cz.shape, X_test_fpz_cz.shape))\n",
        "    print(\"Shape of the training dataset:\\ntraining pz_oz dataset: {}\\ntest pz_oz dataset: {}\\n\"\n",
        "          .format(X_train_pz_oz.shape, X_test_pz_oz.shape))\n",
        "    \n",
        "#print(y_train)\n"
      ],
      "execution_count": 16,
      "outputs": [
        {
          "output_type": "stream",
          "text": [
            "Shape of the input data: (55989, 3000, 2)\n",
            "Shape of the sleep stages: (55989,)\n",
            "Shape of the training dataset:\n",
            "training dataset: (50390, 3000, 2)\n",
            "test dataset: (5599, 3000, 2)\n",
            "\n",
            "Shape of the training dataset:\n",
            "training fpz_cz dataset: (50390, 3000, 1)\n",
            "test fpz_cz dataset: (5599, 3000, 1)\n",
            "\n",
            "Shape of the training dataset:\n",
            "training pz_oz dataset: (50390, 3000, 1)\n",
            "test pz_oz dataset: (5599, 3000, 1)\n",
            "\n"
          ],
          "name": "stdout"
        }
      ]
    },
    {
      "cell_type": "code",
      "metadata": {
        "id": "yhZ5n2EznwRy"
      },
      "source": [
        "# !pip install git+https://www.github.com/keras-team/keras-contrib.git"
      ],
      "execution_count": 17,
      "outputs": []
    },
    {
      "cell_type": "code",
      "metadata": {
        "id": "5hoRr4pwmCDg"
      },
      "source": [
        "# from tensorflow import keras\n",
        "# # from tensorflow.keras import optimizers, losses\n",
        "# from tensorflow.keras.utils import to_categorical\n",
        "\n",
        "\n",
        "# y_train_ = to_categorical(y_train)\n",
        "# y_val_ = to_categorical(y_val)\n",
        "# y_test_ = to_categorical(y_test)\n",
        "#print(y_train)\n",
        "\n",
        "# from tensorflow.keras import optimizers, losses, activations, models\n",
        "# from tensorflow.keras.models import Model, load_model\n",
        "# from tensorflow.keras.layers import GlobalMaxPool1D, GlobalAveragePooling1D, concatenate, SpatialDropout1D, TimeDistributed, Bidirectional, LSTM\n",
        "# from tensorflow.keras.layers import Input, Conv1D, Dense, Dropout, MaxPool1D, Activation\n",
        "# from tensorflow.keras.layers import Reshape, LSTM, TimeDistributed, Bidirectional, BatchNormalization, Flatten, RepeatVector\n",
        "# from tensorflow.keras.optimizers import Adam\n",
        "# from keras_contrib.layers import CRF\n",
        "\n",
        "# from scipy.signal import butter, lfilter\n",
        "\n",
        "# WINDOW_SIZE = 100\n",
        "# Fs = 100\n",
        "\n",
        "# def rescale_array(X):\n",
        "#     X = X / 20\n",
        "#     X = np.clip(X, -5, 5)\n",
        "#     return X\n",
        "\n",
        "# def aug_X(X):\n",
        "#     scale = 1 + np.random.uniform(-0.1, 0.1)\n",
        "#     offset = np.random.uniform(-0.1, 0.1)\n",
        "#     noise = np.random.normal(scale=0.05, size=X.shape)\n",
        "#     X = scale * X + offset + noise\n",
        "#     return X\n",
        "\n",
        "# def gen(dict_files, scale=True, aug=False):\n",
        "#     while True:\n",
        "#         record_name = random.choice(list(dict_files.keys()))\n",
        "#         batch_data = dict_files[record_name]\n",
        "#         all_rows = batch_data['x']\n",
        "\n",
        "#         for i in range(10):\n",
        "#             start_index = random.choice(range(all_rows.shape[0]-WINDOW_SIZE))\n",
        "\n",
        "#             X = all_rows[start_index:start_index+WINDOW_SIZE, ...]\n",
        "#             Y = batch_data['y'][start_index:start_index+WINDOW_SIZE]\n",
        "\n",
        "#             X = np.expand_dims(X, 0)\n",
        "#             Y = np.expand_dims(Y, -1)\n",
        "#             Y = np.expand_dims(Y, 0)\n",
        "\n",
        "#             if aug:\n",
        "#                 X = aug_X(X)\n",
        "                \n",
        "#             if scale:\n",
        "#                 X = rescale_array(X)\n",
        "\n",
        "#             yield np.squeeze(X, axis=0), np.squeeze(Y, axis=0)\n",
        "\n",
        "# def data_generator(X_samples, y_samples, bs=32, label=True):\n",
        "#     i = 0\n",
        "# #     X_samples = X_samples[:]\n",
        "# #     y_samples = y_samples[:]\n",
        "#     while True:\n",
        "#         X_temp = X_samples[i:i + bs]\n",
        "#         y_temp = y_samples[i:i + bs]\n",
        "        \n",
        "#         X_temp = np.array([rescale_array(sample) for sample in X_temp])\n",
        "#         y_temp = np.array(y_temp)\n",
        "#         if label:\n",
        "#             yield X_temp, y_temp\n",
        "#         else:\n",
        "#             yield X_temp\n",
        "\n",
        "#         i += bs           \n",
        "        \n",
        "\n",
        "# def model_b(n_classes=5, use_sub_layer=False, use_rnn=True, verbose=False):\n",
        "#     \"\"\"Recurrent_Deep_Neural_Networks_for_Real-Time_Sleep\n",
        "#     \"\"\"\n",
        "#     inputLayer = Input(shape=(3000, 1), name='inLayer')\n",
        "#     convFine = Conv1D(filters=64, kernel_size=int(Fs/2), strides=int(Fs/16), padding='same', activation='relu', name='fConv1')(inputLayer)\n",
        "#     convFine = MaxPool1D(pool_size=8, strides=8, name='fMaxP1')(convFine)\n",
        "#     convFine = Dropout(rate=0.5, name='fDrop1')(convFine)\n",
        "#     convFine = Conv1D(filters=128, kernel_size=8, padding='same', activation='relu', name='fConv2')(convFine)\n",
        "#     convFine = Conv1D(filters=128, kernel_size=8, padding='same', activation='relu', name='fConv3')(convFine)\n",
        "#     convFine = Conv1D(filters=128, kernel_size=8, padding='same', activation='relu', name='fConv4')(convFine)\n",
        "#     convFine = MaxPool1D(pool_size=4, strides=4, name='fMaxP2')(convFine)\n",
        "#     fineShape = convFine.get_shape()\n",
        "#     convFine = Flatten(name='fFlat1')(convFine)\n",
        "    \n",
        "#     # network to learn coarse features\n",
        "#     convCoarse = Conv1D(filters=32, kernel_size=Fs*4, strides=int(Fs/2), padding='same', activation='relu', name='cConv1')(inputLayer)\n",
        "#     convCoarse = MaxPool1D(pool_size=4, strides=4, name='cMaxP1')(convCoarse)\n",
        "#     convCoarse = Dropout(rate=0.5, name='cDrop1')(convCoarse)\n",
        "#     convCoarse = Conv1D(filters=128, kernel_size=6, padding='same', activation='relu', name='cConv2')(convCoarse)\n",
        "#     convCoarse = Conv1D(filters=128, kernel_size=6, padding='same', activation='relu', name='cConv3')(convCoarse)\n",
        "#     convCoarse = Conv1D(filters=128, kernel_size=6, padding='same', activation='relu', name='cConv4')(convCoarse)\n",
        "#     convCoarse = MaxPool1D(pool_size=2, strides=2, name='cMaxP2')(convCoarse)\n",
        "#     coarseShape = convCoarse.get_shape()\n",
        "#     convCoarse = Flatten(name='cFlat1')(convCoarse)\n",
        "    \n",
        "#     # concatenate coarse and fine cnns\n",
        "#     mergeLayer = concatenate([convFine, convCoarse], name='merge_1')\n",
        "#     outLayer = Dropout(rate=0.5, name='mDrop1')(mergeLayer)\n",
        "    \n",
        "#     outLayer = Reshape((1, outLayer.get_shape()[1]), name='reshape1')(outLayer)\n",
        "#     outLayer = LSTM(64, return_sequences=True)(outLayer)\n",
        "#     outLayer = LSTM(64, return_sequences=False)(outLayer)\n",
        "\n",
        "#     # Classify\n",
        "#     outLayer = Dense(n_classes, activation='softmax', name='outLayer')(outLayer)\n",
        "#     model = Model(inputLayer, outLayer)\n",
        "#     optimizer = Adam(lr=1e-4)\n",
        "#     model.compile(optimizer=optimizer, loss='categorical_crossentropy', metrics=['acc'])\n",
        "#     if verbose:\n",
        "#         model.summary()\n",
        "#     return model\n",
        "\n",
        "# def evaluate_metrics(cm,classes):\n",
        "\n",
        "#     print (\"Confusion matrix:\")\n",
        "#     print (cm)\n",
        "\n",
        "#     cm = cm.astype(np.float32)\n",
        "#     FP = cm.sum(axis=0) - np.diag(cm)\n",
        "#     FN = cm.sum(axis=1) - np.diag(cm)\n",
        "#     TP = np.diag(cm)\n",
        "#     TN = cm.sum() - (FP + FN + TP)\n",
        "#     # https://stackoverflow.com/questions/31324218/scikit-learn-how-to-obtain-true-positive-true-negative-false-positive-and-fal\n",
        "#     # Sensitivity, hit rate, recall, or true positive rate\n",
        "#     TPR = TP / (TP + FN)\n",
        "#     # Specificity or true negative rate\n",
        "#     TNR = TN / (TN + FP)\n",
        "#     # Precision or positive predictive value\n",
        "#     PPV = TP / (TP + FP)\n",
        "#     # Negative predictive value\n",
        "#     NPV = TN / (TN + FN)\n",
        "#     # Fall out or false positive rate\n",
        "#     FPR = FP / (FP + TN)\n",
        "#     # False negative rate\n",
        "#     FNR = FN / (TP + FN)\n",
        "#     # False discovery rate\n",
        "#     FDR = FP / (TP + FP)\n",
        "\n",
        "#     # Overall accuracy\n",
        "#     ACC = (TP + TN) / (TP + FP + FN + TN)\n",
        "#     # ACC_micro = (sum(TP) + sum(TN)) / (sum(TP) + sum(FP) + sum(FN) + sum(TN))\n",
        "#     ACC_macro = np.mean(ACC) # to get a sense of effectiveness of our method on the small classes we computed this average (macro-average)\n",
        "\n",
        "#     F1 = (2 * PPV * TPR) / (PPV + TPR)\n",
        "#     F1_macro = np.mean(F1)\n",
        "\n",
        "#     print (\"Sample: {}\".format(int(np.sum(cm))))\n",
        "#     n_classes = len(classes)\n",
        "#     for index_ in range(n_classes):\n",
        "#         print (\"{}: {}\".format(classes[index_], int(TP[index_] + FN[index_])))\n",
        "\n",
        "\n",
        "#     return ACC_macro,ACC, F1_macro, F1, TPR, TNR, PPV\n",
        "    \n",
        "# #train\n",
        "# def butter_bandpass(lowcut, highpass, fs, order=4):\n",
        "#     nyq = 0.5 * fs\n",
        "#     #       low = lowcut / nyq\n",
        "#     high = highpass / nyq\n",
        "#     b, a = butter(order, high, btype='highpass')\n",
        "#     return b, a\n",
        "   \n",
        "# def butter_bandpass_filter(data, highpass, fs, order=4):\n",
        "#     b, a = butter_bandpass(0, highpass, fs, order=order)\n",
        "#     y = lfilter(b, a, data)\n",
        "#     return y "
      ],
      "execution_count": 18,
      "outputs": []
    },
    {
      "cell_type": "code",
      "metadata": {
        "id": "l70D0imbmmQG"
      },
      "source": [
        "\n",
        "# pp_X_train = np.array([butter_bandpass_filter(sample, highpass=40.0, fs=100, order=4) for sample in X_train])\n",
        "# pp_X_val = np.array([butter_bandpass_filter(sample, highpass=40.0, fs=100, order=4) for sample in X_val])\n",
        "# pp_X_test = np.array([butter_bandpass_filter(sample, highpass=40.0, fs=100, order=4) for sample in X_test])\n",
        "# # pp_X_test = np.expand_dims(pp_X_test, axis=2)\n",
        "# # pp_X_train = np.expand_dims(pp_X_train, axis=2)\n",
        "# # pp_X_val = np.expand_dims(pp_X_val, axis=2)\n",
        "# if VBS:\n",
        "#     print(pp_X_val.shape)\n",
        "#     print(pp_X_train.shape)\n",
        "#     print(X_train.shape)\n",
        "#     print(X_val.shape)"
      ],
      "execution_count": 19,
      "outputs": []
    },
    {
      "cell_type": "code",
      "metadata": {
        "id": "_45KSu3HnJPW"
      },
      "source": [
        "# from tensorflow.keras.callbacks import ModelCheckpoint, ReduceLROnPlateau, CSVLogger\n",
        "# checkpoint = ModelCheckpoint(\"model_cps\", monitor='val_loss', verbose=1, save_best_only=True, mode='max')\n",
        "# redonplat = ReduceLROnPlateau(monitor=\"val_loss\", mode=\"max\", patience=5, verbose=2)\n",
        "# csv_logger = CSVLogger('log_training.csv', append=True, separator=',')\n",
        "# callbacks_list = [\n",
        "#     checkpoint,\n",
        "#     redonplat,\n",
        "#     csv_logger,\n",
        "# ]"
      ],
      "execution_count": 20,
      "outputs": []
    },
    {
      "cell_type": "code",
      "metadata": {
        "id": "gvM37M-Jrsf2"
      },
      "source": [
        "# model_cnn = model_b(verbose=VBS)\n",
        "# hist_19 = model_cnn.fit(\n",
        "#     pp_X_train, y_train_, batch_size=batch_size, epochs=30, validation_data=(pp_X_val, y_val_), callbacks=callbacks_list, verbose=VBS\n",
        "# )"
      ],
      "execution_count": 21,
      "outputs": []
    },
    {
      "cell_type": "code",
      "metadata": {
        "id": "lkgmbWiosHZK"
      },
      "source": [
        "from torch.utils.data import Dataset\n",
        "class EEGDataset(Dataset):\n",
        "\n",
        "    def __init__(self, a):\n",
        "        \"\"\"\n",
        "        TODO: init the Dataset instance.\n",
        "        \"\"\"\n",
        "        self.X = a[0]\n",
        "        self.Y = a[1]\n",
        "\n",
        "    def __len__(self):\n",
        "        \"\"\"\n",
        "        TODO: Denotes the total number of samples\n",
        "        \"\"\"\n",
        "\n",
        "        return len(self.Y)\n",
        "\n",
        "    def __getitem__(self, i):\n",
        "        return (self.X[i], self.Y[i])"
      ],
      "execution_count": 22,
      "outputs": []
    },
    {
      "cell_type": "code",
      "metadata": {
        "id": "viuAyGALGJOH"
      },
      "source": [
        "import torch\n",
        "import torch.nn as nn\n",
        "import torch.nn.functional as F\n",
        "\n",
        "# class MintNet(nn.Module):\n",
        "#     def __init__(self, n=6):\n",
        "#         \"\"\"\n",
        "#         TODO : documents\n",
        "#         \"\"\"\n",
        "#         super(MintNet, self).__init__()\n",
        "#         '''\n",
        "#         Representation layer (initialization)\n",
        "#         '''\n",
        "#         Fs = 100\n",
        "#         self.conv_1 = nn.Conv1d(in_channels=n, out_channels=64, kernel_size=int(Fs / 2), stride=int(Fs / 16), padding=int(Fs / 4) -1)\n",
        "#         self.pool_1 = nn.MaxPool1d(kernel_size=8, stride=8)\n",
        "#         self.droput_1 = nn.Dropout(p=.5)\n",
        "#         self.conv_2 = nn.Conv1d(in_channels=64, out_channels=128, kernel_size=8, padding=4)\n",
        "#         self.conv_3 = nn.Conv1d(in_channels=128, out_channels=128, kernel_size=8, padding=4)\n",
        "#         self.conv_4 = nn.Conv1d(in_channels=128, out_channels=128, kernel_size=8, padding=4)\n",
        "#         self.pool_2 = nn.MaxPool1d(kernel_size=4, stride=4)\n",
        "\n",
        "#         '''\n",
        "#         Representation layer (Fine-tuning)\n",
        "#         '''\n",
        "#         self.conv_1_ft = nn.Conv1d(in_channels=n, out_channels=32, kernel_size=int(Fs * 4), stride=int(Fs / 2), padding=int(Fs*2) -1)\n",
        "#         self.pool_1_ft = nn.MaxPool1d(kernel_size=4, stride=4)\n",
        "#         self.conv_2_ft = nn.Conv1d(in_channels=32, out_channels=128, kernel_size=6, padding=3)\n",
        "#         self.conv_3_ft = nn.Conv1d(in_channels=128, out_channels=128, kernel_size=6, padding=3)\n",
        "#         self.conv_4_ft = nn.Conv1d(in_channels=128, out_channels=128, kernel_size=6, padding=3)\n",
        "#         self.pool_2_ft = nn.MaxPool1d(kernel_size=2, stride=2)\n",
        "\n",
        "#         '''\n",
        "#         TODO - Some reshaping, We are not sure :)\n",
        "#         '''\n",
        "#         self.lstm_1 = nn.LSTM(input_size=1, hidden_size=512, num_layers=1, bidirectional=False)\n",
        "#         self.lstm_2 = nn.LSTM(input_size=512, hidden_size=1, num_layers=1, bidirectional=False)\n",
        "\n",
        "#         '''\n",
        "#         Fully Connected\n",
        "#         '''\n",
        "\n",
        "#         self.fc = nn.Linear(in_features=3200, out_features=5)\n",
        "\n",
        "#     def forward(self, input, dev):\n",
        "#         input = input.permute(0,2,1).to(dev)\n",
        "#         #input = input.unsqueeze(dim=-1).permute(0,2,1).to(dev)\n",
        "#         #print(input.shape)\n",
        "#         x = self.conv_1(input)\n",
        "#         x = F.relu(x)\n",
        "#         x = self.pool_1(x)\n",
        "#         x = self.droput_1(x)\n",
        "#         x = F.relu(self.conv_2(x))\n",
        "#         x = F.relu(self.conv_3(x))\n",
        "#         x = F.relu(self.conv_4(x))\n",
        "#         x = self.pool_2(x)\n",
        "#         x = torch.flatten(x, start_dim=1)\n",
        "\n",
        "#         x_hat = self.conv_1_ft(input)\n",
        "#         x_hat = F.relu(x_hat)\n",
        "#         x_hat = self.pool_1_ft(x_hat)\n",
        "#         x_hat = self.droput_1(x_hat)\n",
        "#         x_hat = F.relu(self.conv_2_ft(x_hat))\n",
        "#         x_hat = F.relu(self.conv_3_ft(x_hat))\n",
        "#         x_hat = F.relu(self.conv_4_ft(x_hat))\n",
        "#         x_hat = self.pool_2_ft(x_hat)\n",
        "#         x_hat = torch.flatten(x_hat, start_dim=1)\n",
        "#         merged_layers = torch.cat((x, x_hat), dim=-1)\n",
        "#         out_hat = self.droput_1(merged_layers)\n",
        "#         '''\n",
        "#         TODO some reshaping required\n",
        "#         '''\n",
        "\n",
        "#         out = out_hat.unsqueeze(dim=-1)\n",
        "#         out, hidden = self.lstm_1(out)\n",
        "#         out = self.droput_1(out)\n",
        "#         out, hidden = self.lstm_2(out)\n",
        "#         out = self.droput_1(out)\n",
        "\n",
        "#         # fc_input = out_hat.unsqueeze(dim=-1)\n",
        "#         #\n",
        "#         # out_hat = self.fc(fc_input)#correct this out must be from after merged_layer\n",
        "#         #\n",
        "#         # merged_layers = torch.cat((out, out_hat), dim=-1)\n",
        "      \n",
        "#         out = self.fc(out.squeeze(dim=-1))\n",
        "#         out = self.droput_1(out)\n",
        "#         #out = F.softmax(out, dim=1)\n",
        "\n",
        "#         return out"
      ],
      "execution_count": 23,
      "outputs": []
    },
    {
      "cell_type": "code",
      "metadata": {
        "id": "66HzLjubFHM7"
      },
      "source": [
        "import torch\n",
        "import torch.nn as nn\n",
        "import torch.nn.functional as F\n",
        "\n",
        "BATCH_SIZE = 50\n",
        "# train & test data from fpz-cz and pz_oz\n",
        "X_train = torch.tensor(X_train).float().detach().clone()\n",
        "Y_train = torch.tensor(Y_train).long().detach().clone()\n",
        "train_data_all = (X_train, Y_train)\n",
        "\n",
        "X_test = torch.tensor(X_test).float().detach().clone()\n",
        "Y_test = torch.tensor(Y_test).long().detach().clone()\n",
        "test_data_all = (X_test, Y_test)\n",
        "\n",
        "train_loader_all = torch.utils.data.DataLoader(EEGDataset(train_data_all), batch_size=BATCH_SIZE, shuffle=False)\n",
        "test_loader_all =  torch.utils.data.DataLoader(EEGDataset(test_data_all), batch_size=BATCH_SIZE, shuffle=False)\n",
        "\n",
        "# train & test data from fpz-cz\n",
        "X_train_fpz_cz = torch.tensor(X_train_fpz_cz).float().detach().clone()\n",
        "Y_train_fpz_cz = torch.tensor(Y_train_fpz_cz).long().detach().clone()\n",
        "train_data_fpz_cz = (X_train_fpz_cz, Y_train_fpz_cz)\n",
        "\n",
        "X_test_fpz_cz = torch.tensor(X_test_fpz_cz).float().detach().clone()\n",
        "Y_test_fpz_cz = torch.tensor(Y_test_fpz_cz).long().detach().clone()\n",
        "test_data_fpz_cz = (X_test_fpz_cz, Y_test_fpz_cz)\n",
        "\n",
        "train_loader_fpz_cz = torch.utils.data.DataLoader(EEGDataset(train_data_fpz_cz), batch_size=BATCH_SIZE, shuffle=False)\n",
        "test_loader_fpz_cz =  torch.utils.data.DataLoader(EEGDataset(test_data_fpz_cz), batch_size=BATCH_SIZE, shuffle=False)\n",
        "\n",
        "# train & test data from pz-oz\n",
        "X_train_pz_oz = torch.tensor(X_train_pz_oz).float().detach().clone()\n",
        "Y_train_pz_oz = torch.tensor(Y_train_pz_oz).long().detach().clone()\n",
        "train_data_pz_oz = (X_train_pz_oz, Y_train_pz_oz)\n",
        "\n",
        "X_test_pz_oz= torch.tensor(X_test_pz_oz).float().detach().clone()\n",
        "Y_test_pz_oz = torch.tensor(Y_test_pz_oz).long().detach().clone()\n",
        "test_data_pz_oz = (X_test_pz_oz, Y_test_pz_oz)\n",
        "\n",
        "train_loader_pz_oz = torch.utils.data.DataLoader(EEGDataset(train_data_pz_oz), batch_size=BATCH_SIZE, shuffle=False)\n",
        "test_loader_pz_oz =  torch.utils.data.DataLoader(EEGDataset(test_data_pz_oz), batch_size=BATCH_SIZE, shuffle=False)"
      ],
      "execution_count": 24,
      "outputs": []
    },
    {
      "cell_type": "code",
      "metadata": {
        "id": "Gk3QyVPKOPVD"
      },
      "source": [
        "\n",
        "def calculate_batch_accuracy_precision_recall_fscore(y_pred, y_true):\n",
        "    from sklearn.metrics import accuracy_score, precision_recall_fscore_support\n",
        "\n",
        "    y_pred = torch.argmax(y_pred, dim=-1)\n",
        "    y_pred = y_pred.cpu().data.numpy()\n",
        "    y_true = y_true.cpu().data.numpy()\n",
        "    (precision, recall, fscore, _) = precision_recall_fscore_support(y_true, y_pred, average='macro',warn_for=tuple())\n",
        "    accuracy = accuracy_score(y_pred, y_true)\n",
        "    #print(precision, recall, fscore)\n",
        "    return precision, recall, fscore, accuracy\n",
        "\n",
        "def train_model(model, train_loader, n_epoch=5, lr=0.003, device=None):\n",
        "    import torch.optim as optim\n",
        "    \"\"\"\n",
        "    Comments goes here\n",
        "    \"\"\"\n",
        "    device = device or torch.device('cpu')\n",
        "   \n",
        "    loss_history = []\n",
        "    criterion = nn.CrossEntropyLoss()\n",
        "    optimizer = optim.Adam(model.parameters(), lr=lr)\n",
        "    exp_lr_scheduler = optim.lr_scheduler.StepLR(optimizer, step_size=3, gamma=0.1)\n",
        "    model.train()\n",
        "    epoch_precision_hist, epoch_recall_hist, epoch_fscore_hist, epoch_accuracy_hist = ([] for i in range(4))\n",
        "\n",
        "    #X2 = torch.tensor(X1,dtype=torch.float32)\n",
        "    #y2 = torch.tensor(y1,dtype=torch.long)\n",
        "\n",
        "    #print(y2.size)\n",
        "\n",
        "    for epoch in range(n_epoch):\n",
        "        curr_epoch_loss = []\n",
        "        precision, recall, fscore, accuracy = ([] for i in range(4))\n",
        "        count = 0\n",
        "        for X, Y in train_loader:\n",
        "            optimizer.zero_grad()\n",
        "            \n",
        "            # perm = torch.randperm(y2.size(0))\n",
        "            # idx = perm[:10]\n",
        "            # X3 = X2[idx]\n",
        "            # y3 = y2[idx]\n",
        "            # X = torch.cat((X,X3),dim=0)\n",
        "            # Y = torch.cat((Y,y3),dim=0)\n",
        "\n",
        "\n",
        "            #X = X.squeeze(dim=0).to(device)\n",
        "            X = X.detach().clone().to(device)\n",
        "            Y = Y.detach().clone().to(device)\n",
        "            Y_hat = model(X, device).float()\n",
        "            Y = Y.long()\n",
        "            loss = criterion(Y_hat, Y)\n",
        "            loss.backward()\n",
        "            optimizer.step()     \n",
        "            # Appending loss     \n",
        "            curr_epoch_loss.append(loss.cpu().data.numpy())\n",
        "            # measure all metrics\n",
        "            batch_precision, batch_recall, batch_fscore, batch_acc = calculate_batch_accuracy_precision_recall_fscore(Y_hat, Y)\n",
        "            accuracy.append(batch_acc)\n",
        "            fscore.append(batch_fscore)\n",
        "            recall.append(batch_recall)\n",
        "            precision.append(batch_precision)\n",
        "            count+=1\n",
        "            #print(count,\"/\",len(train_loader),\"---lr->\",lr,\"---------acc->\", batch_acc, \"  --- loss ->\", loss)\n",
        "            print(f\"\\repoch{epoch} | progress->{count}/{len(train_loader)} \", end=\"\")\n",
        "        epoch_accuracy = np.mean(accuracy)\n",
        "        epoch_accuracy_hist.append(epoch_accuracy)\n",
        "        epoch_precision_hist.append(np.mean(precision))\n",
        "        epoch_recall_hist.append(np.mean(recall))\n",
        "        epoch_fscore_hist.append(np.mean(fscore))\n",
        "        print(f\"curr_epoch_loss={round(np.mean(curr_epoch_loss),2)}\")\n",
        "        loss_history.append(round(np.mean(curr_epoch_loss),2))\n",
        "        print(datetime.now().strftime(\"%Y-%m-%d %H:%M\"), \"epoch_accuracy->\", round(epoch_accuracy,2))\n",
        "        exp_lr_scheduler.step()\n",
        "        ## Evaluating on every epoch\n",
        "        # pred, truth = eval_model(model, val_loader, device=device)\n",
        "        # auroc, f1 = evaluate_predictions(truth, pred)\n",
        "        # print(f\"AUROC={auroc} and F1={f1}\")\n",
        "    return model, loss_history, epoch_accuracy_hist, epoch_precision_hist, epoch_recall_hist, epoch_fscore_hist"
      ],
      "execution_count": 25,
      "outputs": []
    },
    {
      "cell_type": "code",
      "metadata": {
        "id": "DO-t7obEDsDT"
      },
      "source": [
        "# import torch\n",
        "# import torch.nn as nn\n",
        "# import torch.nn.functional as F\n",
        "\n",
        "# class SleepCNN_1D_Tsinalis(nn.Module):\n",
        "#     \"\"\"Replication of the CNN architecture used by Tsinalis,et al. (2016)\n",
        "#     https://arxiv.org/pdf/1610.01683.pdf\n",
        "#     \"\"\"\n",
        "\n",
        "#     def __init__(self, n = 1):\n",
        "#         super(SleepCNN_1D_Tsinalis, self).__init__()\n",
        "#         self.conv1 = nn.Conv1d(in_channels=n, out_channels=20, kernel_size=200, stride=1)\n",
        "#         self.pool1 = nn.MaxPool1d(kernel_size=20, stride=10)\n",
        "#         self.conv2 = nn.Conv2d(\n",
        "#             in_channels=1, out_channels=400, kernel_size=(20, 30), stride=(1, 1))\n",
        "#         self.pool2 = nn.MaxPool2d(kernel_size=(1, 10), stride=(1, 2))\n",
        "#         #self.fc1 = nn.Linear(in_features=400 * 721, out_features=500)\n",
        "#         self.fc1 = nn.Linear(in_features=400 * 121, out_features=500)\n",
        "#         self.fc2 = nn.Linear(in_features=500, out_features=5)\n",
        "\n",
        "#     def forward(self, x, dev):\n",
        "#         x = x.permute(0,2,1).to(dev)\n",
        "#         # One dimensional convolution/pooling\n",
        "#         x = F.relu(self.conv1(x))\n",
        "#         x = self.pool1(x)\n",
        "\n",
        "#         # Stack, two-dimensional convolution/pooling\n",
        "#         x = x.unsqueeze(1)\n",
        "#         x = F.relu(self.conv2(x))\n",
        "#         x = self.pool2(x)\n",
        "#         #print(x.shape)\n",
        "#         # Reshape, fully connected layers\n",
        "#         x = x.view(-1, 400 * 121)#400 * 721)\n",
        "#         x = self.fc1(x)\n",
        "#         x = self.fc2(x)\n",
        "\n",
        "#         return x"
      ],
      "execution_count": 26,
      "outputs": []
    },
    {
      "cell_type": "code",
      "metadata": {
        "id": "UDcwv7wlrrje"
      },
      "source": [
        "import torch\n",
        "import torch.nn as nn\n",
        "import torch.nn.functional as F\n",
        "\n",
        "class SleepCNN_1D_Tsinalis(nn.Module):\n",
        "    \"\"\"Replication of the CNN architecture used by Tsinalis,et al. (2016)\n",
        "    https://arxiv.org/pdf/1610.01683.pdf\n",
        "    \"\"\"\n",
        "\n",
        "    def __init__(self, n = 1):\n",
        "        super(SleepCNN_1D_Tsinalis, self).__init__()\n",
        "        self.conv1 = nn.Conv1d(in_channels=n, out_channels=20, kernel_size=200, stride=1)\n",
        "        self.bn1 = nn.BatchNorm1d(num_features=20)\n",
        "        self.pool1 = nn.MaxPool1d(kernel_size=20, stride=10)\n",
        "        self.conv2 = nn.Conv2d(\n",
        "            in_channels=1, out_channels=400, kernel_size=(20, 30), stride=(1, 1))\n",
        "        self.bn2 = nn.BatchNorm2d(num_features=400)\n",
        "        self.pool2 = nn.MaxPool2d(kernel_size=(1, 10), stride=(1, 2))\n",
        "\n",
        "        self.conv3 = nn.Conv2d(in_channels=400, out_channels=100, kernel_size=(1,10),stride=(1,1))\n",
        "        self.bn3 = nn.BatchNorm2d(num_features=100)\n",
        "        self.pool3 = nn.MaxPool2d(kernel_size=(1, 10), stride=(5, 7))\n",
        "\n",
        "        #self.fc1 = nn.Linear(in_features=400 * 121, out_features=500)\n",
        "        self.fc1 = nn.Linear(in_features=100*15, out_features=500)\n",
        "        self.fc2 = nn.Linear(in_features=500, out_features=5)\n",
        "\n",
        "    def forward(self, x, dev):\n",
        "        x = x.permute(0,2,1).to(dev)\n",
        "        #print(\"1-->\",x.shape)\n",
        "        # One dimensional convolution/pooling\n",
        "        x = self.conv1(x)\n",
        "        #print(\"2-->\",x.shape)\n",
        "        x = self.bn1(x)\n",
        "        #print(\"3-->\",x.shape)\n",
        "        x = F.relu(x)\n",
        "        #print(\"4-->\",x.shape)\n",
        "        x = self.pool1(x)\n",
        "        #print(\"5-->\",x.shape)\n",
        "\n",
        "        # Stack, two-dimensional convolution/pooling\n",
        "        x = x.unsqueeze(1)\n",
        "#         print(\"6-->\",x.shape)\n",
        "\n",
        "              # 2--> torch.Size([50, 20, 2801])\n",
        "              # 3--> torch.Size([50, 20, 2801])\n",
        "              # 4--> torch.Size([50, 20, 2801])\n",
        "              # 5--> torch.Size([50, 20, 279])\n",
        "              # 6--> torch.Size([50, 1, 20, 279])\n",
        "              # 7--> torch.Size([50, 400, 1, 250])\n",
        "              # 8--> torch.Size([50, 400, 1, 250])\n",
        "              # 9--> torch.Size([50, 400, 1, 250])\n",
        "              # 10--> torch.Size([50, 400, 1, 121])\n",
        "        x = self.conv2(x)\n",
        "        #print(\"7-->\",x.shape)\n",
        "        x = self.bn2(x)\n",
        "        #print(\"8-->\",x.shape)\n",
        "        x = F.relu(x)\n",
        "        #print(\"9-->\",x.shape)\n",
        "        x = self.pool2(x)\n",
        "        #print(\"10-->\",x.shape)\n",
        "\n",
        "        #x=x.permute(0,2,1,3)\n",
        "        #print(x.shape)\n",
        "        x = self.conv3(x)\n",
        "        #print(\"11-->\",x.shape)\n",
        "        x = self.bn3(x)\n",
        "        #print(\"12-->\",x.shape)\n",
        "        x = F.relu(x)\n",
        "        #print(\"13-->\",x.shape)\n",
        "        x = self.pool3(x)\n",
        "        #print(\"14-->\",x.shape)\n",
        "\n",
        "        #print(x.shape)\n",
        "        # Reshape, fully connected layers\n",
        "        x = x.view(-1,100*15)#400 * 721)\n",
        "        x = self.fc1(x)\n",
        "        x = self.fc2(x)\n",
        "\n",
        "        return x"
      ],
      "execution_count": 64,
      "outputs": []
    },
    {
      "cell_type": "code",
      "metadata": {
        "id": "tLtXgaV9IUdE",
        "colab": {
          "base_uri": "https://localhost:8080/"
        },
        "outputId": "3d0f5afc-843c-4cee-fcab-80a9bf391a58"
      },
      "source": [
        "print(torch.cuda.is_available())\n",
        "if torch.cuda.is_available():\n",
        "  dev = \"cuda:0\"\n",
        "  torch.cuda.empty_cache()\n",
        "else:\n",
        "  dev = \"cpu\"\n",
        "device = torch.device(dev)\n",
        "print(datetime.now().strftime(\"%Y-%m-%d %H:%M\"))\n",
        "\n",
        "# All the channel\n",
        "n_epoch = 20#10\n",
        "lr = .0001#0.003\n",
        "\n",
        "n_dim=2#number of channels which includes fpz-cz and pz-oz\n",
        "\n",
        "model = SleepCNN_1D_Tsinalis(n_dim)#MintNet(n_dim)\n",
        "model = model.to(device)\n",
        "\n",
        "model, loss_history, epoch_accuracy_hist, epoch_precision_hist, epoch_recall_hist, epoch_fscore_hist = train_model(model, train_loader_all, n_epoch=n_epoch, lr=lr, device=device)\n",
        "torch.save(model, os.path.join(project_path, \"SleepCNN_multichannel.pth\"))\n"
      ],
      "execution_count": 65,
      "outputs": [
        {
          "output_type": "stream",
          "text": [
            "True\n",
            "2021-04-23 21:33\n",
            "epoch0 | progress->1008/1008 curr_epoch_loss=0.5799999833106995\n",
            "2021-04-23 21:33 epoch_accuracy-> 0.78\n",
            "epoch1 | progress->1008/1008 curr_epoch_loss=0.4699999988079071\n",
            "2021-04-23 21:33 epoch_accuracy-> 0.82\n",
            "epoch2 | progress->1008/1008 curr_epoch_loss=0.4399999976158142\n",
            "2021-04-23 21:33 epoch_accuracy-> 0.83\n",
            "epoch3 | progress->1008/1008 curr_epoch_loss=0.3799999952316284\n",
            "2021-04-23 21:34 epoch_accuracy-> 0.86\n",
            "epoch4 | progress->1008/1008 curr_epoch_loss=0.3700000047683716\n",
            "2021-04-23 21:34 epoch_accuracy-> 0.86\n",
            "epoch5 | progress->1008/1008 curr_epoch_loss=0.36000001430511475\n",
            "2021-04-23 21:34 epoch_accuracy-> 0.87\n",
            "epoch6 | progress->1008/1008 curr_epoch_loss=0.3499999940395355\n",
            "2021-04-23 21:34 epoch_accuracy-> 0.87\n",
            "epoch7 | progress->1008/1008 curr_epoch_loss=0.3400000035762787\n",
            "2021-04-23 21:35 epoch_accuracy-> 0.87\n",
            "epoch8 | progress->1008/1008 curr_epoch_loss=0.3400000035762787\n",
            "2021-04-23 21:35 epoch_accuracy-> 0.87\n",
            "epoch9 | progress->1008/1008 curr_epoch_loss=0.3400000035762787\n",
            "2021-04-23 21:35 epoch_accuracy-> 0.87\n",
            "epoch10 | progress->1008/1008 curr_epoch_loss=0.3400000035762787\n",
            "2021-04-23 21:36 epoch_accuracy-> 0.87\n",
            "epoch11 | progress->1008/1008 curr_epoch_loss=0.3400000035762787\n",
            "2021-04-23 21:36 epoch_accuracy-> 0.87\n",
            "epoch12 | progress->1008/1008 curr_epoch_loss=0.3400000035762787\n",
            "2021-04-23 21:36 epoch_accuracy-> 0.87\n",
            "epoch13 | progress->1008/1008 curr_epoch_loss=0.3400000035762787\n",
            "2021-04-23 21:36 epoch_accuracy-> 0.87\n",
            "epoch14 | progress->1008/1008 curr_epoch_loss=0.3400000035762787\n",
            "2021-04-23 21:37 epoch_accuracy-> 0.87\n",
            "epoch15 | progress->1008/1008 curr_epoch_loss=0.3400000035762787\n",
            "2021-04-23 21:37 epoch_accuracy-> 0.87\n",
            "epoch16 | progress->1008/1008 curr_epoch_loss=0.3400000035762787\n",
            "2021-04-23 21:37 epoch_accuracy-> 0.87\n",
            "epoch17 | progress->1008/1008 curr_epoch_loss=0.3400000035762787\n",
            "2021-04-23 21:38 epoch_accuracy-> 0.87\n",
            "epoch18 | progress->1008/1008 curr_epoch_loss=0.3400000035762787\n",
            "2021-04-23 21:38 epoch_accuracy-> 0.87\n",
            "epoch19 | progress->1008/1008 curr_epoch_loss=0.3400000035762787\n",
            "2021-04-23 21:38 epoch_accuracy-> 0.87\n"
          ],
          "name": "stdout"
        }
      ]
    },
    {
      "cell_type": "code",
      "metadata": {
        "colab": {
          "base_uri": "https://localhost:8080/"
        },
        "id": "8vhVoS3cXwzl",
        "outputId": "74be11e2-a9dd-4dac-bceb-8a110d63fc30"
      },
      "source": [
        "#fpz-cz training\n",
        "print('fpz-cz training', datetime.now().strftime(\"%Y-%m-%d %H:%M\"))\n",
        "n_epoch = 20#10\n",
        "lr = .0001#0.003\n",
        "\n",
        "n_dim=1#number of channels as its fpz-cz\n",
        "\n",
        "model_fpz_cz = SleepCNN_1D_Tsinalis(n_dim)#MintNet(n_dim)\n",
        "model_fpz_cz = model_fpz_cz.to(device)\n",
        "\n",
        "model_fpz_cz, loss_history_fpz_cz, epoch_accuracy_hist_fpz_cz, epoch_precision_hist_fpz_cz, epoch_recall_hist_fpz_cz, epoch_fscore_hist_fpz_cz = train_model(model_fpz_cz, train_loader_fpz_cz, n_epoch=n_epoch, lr=lr, device=device)\n",
        "torch.save(model_fpz_cz, os.path.join(project_path, \"SleepCNN_fpz_cz_channel.pth\"))"
      ],
      "execution_count": 70,
      "outputs": [
        {
          "output_type": "stream",
          "text": [
            "fpz-cz training 2021-04-23 21:40\n",
            "epoch0 | progress->1008/1008 curr_epoch_loss=0.6299999952316284\n",
            "2021-04-23 21:41 epoch_accuracy-> 0.75\n",
            "epoch1 | progress->1008/1008 curr_epoch_loss=0.5199999809265137\n",
            "2021-04-23 21:41 epoch_accuracy-> 0.8\n",
            "epoch2 | progress->1008/1008 curr_epoch_loss=0.49000000953674316\n",
            "2021-04-23 21:41 epoch_accuracy-> 0.81\n",
            "epoch3 | progress->1008/1008 curr_epoch_loss=0.4300000071525574\n",
            "2021-04-23 21:42 epoch_accuracy-> 0.84\n",
            "epoch4 | progress->1008/1008 curr_epoch_loss=0.41999998688697815\n",
            "2021-04-23 21:42 epoch_accuracy-> 0.84\n",
            "epoch5 | progress->1008/1008 curr_epoch_loss=0.4099999964237213\n",
            "2021-04-23 21:42 epoch_accuracy-> 0.84\n",
            "epoch6 | progress->1008/1008 curr_epoch_loss=0.4000000059604645\n",
            "2021-04-23 21:43 epoch_accuracy-> 0.85\n",
            "epoch7 | progress->1008/1008 curr_epoch_loss=0.4000000059604645\n",
            "2021-04-23 21:43 epoch_accuracy-> 0.85\n",
            "epoch8 | progress->1008/1008 curr_epoch_loss=0.4000000059604645\n",
            "2021-04-23 21:44 epoch_accuracy-> 0.85\n",
            "epoch9 | progress->1008/1008 curr_epoch_loss=0.4000000059604645\n",
            "2021-04-23 21:44 epoch_accuracy-> 0.85\n",
            "epoch10 | progress->1008/1008 curr_epoch_loss=0.4000000059604645\n",
            "2021-04-23 21:44 epoch_accuracy-> 0.85\n",
            "epoch11 | progress->1008/1008 curr_epoch_loss=0.4000000059604645\n",
            "2021-04-23 21:45 epoch_accuracy-> 0.85\n",
            "epoch12 | progress->1008/1008 curr_epoch_loss=0.4000000059604645\n",
            "2021-04-23 21:45 epoch_accuracy-> 0.85\n",
            "epoch13 | progress->1008/1008 curr_epoch_loss=0.4000000059604645\n",
            "2021-04-23 21:45 epoch_accuracy-> 0.85\n",
            "epoch14 | progress->1008/1008 curr_epoch_loss=0.4000000059604645\n",
            "2021-04-23 21:46 epoch_accuracy-> 0.85\n",
            "epoch15 | progress->1008/1008 curr_epoch_loss=0.4000000059604645\n",
            "2021-04-23 21:46 epoch_accuracy-> 0.85\n",
            "epoch16 | progress->1008/1008 curr_epoch_loss=0.4000000059604645\n",
            "2021-04-23 21:47 epoch_accuracy-> 0.85\n",
            "epoch17 | progress->1008/1008 curr_epoch_loss=0.4000000059604645\n",
            "2021-04-23 21:47 epoch_accuracy-> 0.85\n",
            "epoch18 | progress->1008/1008 curr_epoch_loss=0.4000000059604645\n",
            "2021-04-23 21:47 epoch_accuracy-> 0.85\n",
            "epoch19 | progress->1008/1008 curr_epoch_loss=0.4000000059604645\n",
            "2021-04-23 21:48 epoch_accuracy-> 0.85\n"
          ],
          "name": "stdout"
        }
      ]
    },
    {
      "cell_type": "code",
      "metadata": {
        "colab": {
          "base_uri": "https://localhost:8080/"
        },
        "id": "bSbz2JXXXyDG",
        "outputId": "2f0ec329-92bb-4381-f680-e553bf868855"
      },
      "source": [
        "#pz-oz training\n",
        "print('pz-oz training', datetime.now().strftime(\"%Y-%m-%d %H:%M\"))\n",
        "n_epoch = 20#10\n",
        "lr = .0001#0.003\n",
        "\n",
        "n_dim=1#number of channels as its pz-oz\n",
        "\n",
        "model_pz_oz = SleepCNN_1D_Tsinalis(n_dim)#MintNet(n_dim)\n",
        "model_pz_oz = model_pz_oz.to(device)\n",
        "\n",
        "model_pz_oz, loss_history_pz_oz, epoch_accuracy_hist_pz_oz, epoch_precision_hist_pz_oz, epoch_recall_hist_pz_oz, epoch_fscore_hist_pz_oz = train_model(model_pz_oz, train_loader_pz_oz, n_epoch=n_epoch, lr=lr, device=device)\n",
        "torch.save(model_pz_oz, os.path.join(project_path, \"SleepCNN_pz_oz_channel.pth\"))"
      ],
      "execution_count": 71,
      "outputs": [
        {
          "output_type": "stream",
          "text": [
            "pz-oz training 2021-04-23 21:48\n",
            "epoch0 | progress->1008/1008 curr_epoch_loss=0.7099999785423279\n",
            "2021-04-23 21:48 epoch_accuracy-> 0.73\n",
            "epoch1 | progress->1008/1008 curr_epoch_loss=0.6100000143051147\n",
            "2021-04-23 21:49 epoch_accuracy-> 0.77\n",
            "epoch2 | progress->1008/1008 curr_epoch_loss=0.5799999833106995\n",
            "2021-04-23 21:49 epoch_accuracy-> 0.78\n",
            "epoch3 | progress->1008/1008 curr_epoch_loss=0.5299999713897705\n",
            "2021-04-23 21:49 epoch_accuracy-> 0.8\n",
            "epoch4 | progress->1008/1008 curr_epoch_loss=0.5199999809265137\n",
            "2021-04-23 21:50 epoch_accuracy-> 0.81\n",
            "epoch5 | progress->1008/1008 curr_epoch_loss=0.5099999904632568\n",
            "2021-04-23 21:50 epoch_accuracy-> 0.81\n",
            "epoch6 | progress->1008/1008 curr_epoch_loss=0.5\n",
            "2021-04-23 21:50 epoch_accuracy-> 0.82\n",
            "epoch7 | progress->1008/1008 curr_epoch_loss=0.49000000953674316\n",
            "2021-04-23 21:51 epoch_accuracy-> 0.82\n",
            "epoch8 | progress->1008/1008 curr_epoch_loss=0.49000000953674316\n",
            "2021-04-23 21:51 epoch_accuracy-> 0.82\n",
            "epoch9 | progress->1008/1008 curr_epoch_loss=0.49000000953674316\n",
            "2021-04-23 21:52 epoch_accuracy-> 0.82\n",
            "epoch10 | progress->1008/1008 curr_epoch_loss=0.49000000953674316\n",
            "2021-04-23 21:52 epoch_accuracy-> 0.82\n",
            "epoch11 | progress->1008/1008 curr_epoch_loss=0.49000000953674316\n",
            "2021-04-23 21:52 epoch_accuracy-> 0.82\n",
            "epoch12 | progress->1008/1008 curr_epoch_loss=0.49000000953674316\n",
            "2021-04-23 21:53 epoch_accuracy-> 0.82\n",
            "epoch13 | progress->1008/1008 curr_epoch_loss=0.49000000953674316\n",
            "2021-04-23 21:53 epoch_accuracy-> 0.82\n",
            "epoch14 | progress->1008/1008 curr_epoch_loss=0.49000000953674316\n",
            "2021-04-23 21:54 epoch_accuracy-> 0.82\n",
            "epoch15 | progress->1008/1008 curr_epoch_loss=0.49000000953674316\n",
            "2021-04-23 21:54 epoch_accuracy-> 0.82\n",
            "epoch16 | progress->1008/1008 curr_epoch_loss=0.49000000953674316\n",
            "2021-04-23 21:54 epoch_accuracy-> 0.82\n",
            "epoch17 | progress->1008/1008 curr_epoch_loss=0.49000000953674316\n",
            "2021-04-23 21:55 epoch_accuracy-> 0.82\n",
            "epoch18 | progress->1008/1008 curr_epoch_loss=0.49000000953674316\n",
            "2021-04-23 21:55 epoch_accuracy-> 0.82\n",
            "epoch19 | progress->1008/1008 curr_epoch_loss=0.49000000953674316\n",
            "2021-04-23 21:55 epoch_accuracy-> 0.82\n"
          ],
          "name": "stdout"
        }
      ]
    },
    {
      "cell_type": "code",
      "metadata": {
        "colab": {
          "base_uri": "https://localhost:8080/",
          "height": 312
        },
        "id": "gGYrgYXK2JB3",
        "outputId": "167e9148-4f65-46c5-dc7a-feedee00ebf2"
      },
      "source": [
        "plt.title(\"Training loss by epochs\")\n",
        "plt.plot(loss_history, label = \"fpz_cz + pz_oz\")\n",
        "plt.plot(loss_history_fpz_cz, label = \"fpz_cz\")\n",
        "plt.plot(loss_history_pz_oz, label = \"pz_oz\")\n",
        "plt.legend()\n",
        "plt.xlabel(\"epochs\")\n",
        "plt.ylabel(\"loss\")"
      ],
      "execution_count": 72,
      "outputs": [
        {
          "output_type": "execute_result",
          "data": {
            "text/plain": [
              "Text(0, 0.5, 'loss')"
            ]
          },
          "metadata": {
            "tags": []
          },
          "execution_count": 72
        },
        {
          "output_type": "display_data",
          "data": {
            "image/png": "[encoded data removed]",
            "text/plain": [
              "<Figure size 432x288 with 1 Axes>"
            ]
          },
          "metadata": {
            "tags": [],
            "needs_background": "light"
          }
        }
      ]
    },
    {
      "cell_type": "code",
      "metadata": {
        "colab": {
          "base_uri": "https://localhost:8080/",
          "height": 312
        },
        "id": "sjpfCICLhO0q",
        "outputId": "ca30416e-6f9a-4a68-b43c-cc0ca626f8e4"
      },
      "source": [
        "plt.title(\"Training accuracy by epochs\")\n",
        "plt.plot(epoch_accuracy_hist,label = \"fpz_cz + pz_oz\")\n",
        "plt.plot(epoch_accuracy_hist_fpz_cz, label = \"fpz_cz\")\n",
        "plt.plot(epoch_accuracy_hist_pz_oz, label = \"pz_oz\")\n",
        "plt.legend()\n",
        "plt.xlabel(\"epochs\")\n",
        "plt.ylabel(\"accuracy\")"
      ],
      "execution_count": 73,
      "outputs": [
        {
          "output_type": "execute_result",
          "data": {
            "text/plain": [
              "Text(0, 0.5, 'accuracy')"
            ]
          },
          "metadata": {
            "tags": []
          },
          "execution_count": 73
        },
        {
          "output_type": "display_data",
          "data": {
            "image/png": "[encoded data removed]",
            "text/plain": [
              "<Figure size 432x288 with 1 Axes>"
            ]
          },
          "metadata": {
            "tags": [],
            "needs_background": "light"
          }
        }
      ]
    },
    {
      "cell_type": "code",
      "metadata": {
        "colab": {
          "base_uri": "https://localhost:8080/",
          "height": 312
        },
        "id": "SQw3We83X01m",
        "outputId": "560360c9-1b4d-41c0-83ae-2ca5380cf83f"
      },
      "source": [
        "plt.title(\"Training precision by epochs\")\n",
        "plt.plot(epoch_precision_hist,label = \"fpz_cz + pz_oz\")\n",
        "plt.plot(epoch_precision_hist_fpz_cz,label = \"fpz_cz\")\n",
        "plt.plot(epoch_precision_hist_pz_oz,label = \"pz_oz\")\n",
        "plt.legend()\n",
        "plt.xlabel(\"epochs\")\n",
        "plt.ylabel(\"precision\")"
      ],
      "execution_count": 74,
      "outputs": [
        {
          "output_type": "execute_result",
          "data": {
            "text/plain": [
              "Text(0, 0.5, 'precision')"
            ]
          },
          "metadata": {
            "tags": []
          },
          "execution_count": 74
        },
        {
          "output_type": "display_data",
          "data": {
            "image/png": "[encoded data removed]",
            "text/plain": [
              "<Figure size 432x288 with 1 Axes>"
            ]
          },
          "metadata": {
            "tags": [],
            "needs_background": "light"
          }
        }
      ]
    },
    {
      "cell_type": "code",
      "metadata": {
        "colab": {
          "base_uri": "https://localhost:8080/",
          "height": 312
        },
        "id": "-SycgLV-hcdt",
        "outputId": "cdf1bf99-cac7-4d6a-f103-745f20791155"
      },
      "source": [
        "plt.title(\"Training recall by epochs for different models\")\n",
        "plt.plot(epoch_recall_hist,label = \"fpz_cz + pz_oz\")\n",
        "plt.plot(epoch_recall_hist_fpz_cz,label = \"fpz_cz\")\n",
        "plt.plot(epoch_recall_hist_pz_oz,label = \"pz_oz\")\n",
        "plt.legend()\n",
        "plt.xlabel(\"epochs\")\n",
        "plt.ylabel(\"recall\")"
      ],
      "execution_count": 75,
      "outputs": [
        {
          "output_type": "execute_result",
          "data": {
            "text/plain": [
              "Text(0, 0.5, 'recall')"
            ]
          },
          "metadata": {
            "tags": []
          },
          "execution_count": 75
        },
        {
          "output_type": "display_data",
          "data": {
            "image/png": "[encoded data removed]",
            "text/plain": [
              "<Figure size 432x288 with 1 Axes>"
            ]
          },
          "metadata": {
            "tags": [],
            "needs_background": "light"
          }
        }
      ]
    },
    {
      "cell_type": "code",
      "metadata": {
        "colab": {
          "base_uri": "https://localhost:8080/",
          "height": 312
        },
        "id": "zNEYL1DUhkpl",
        "outputId": "6841f933-86dd-4e1c-d374-56c23f8d4212"
      },
      "source": [
        "plt.title(\"Training f1-score by epochs\")\n",
        "plt.plot(epoch_fscore_hist, label = \"fpz_cz + pz_oz\")\n",
        "plt.plot(epoch_fscore_hist_fpz_cz, label = \"fpz_cz\")\n",
        "plt.plot(epoch_fscore_hist_pz_oz, label = \"pz_oz\")\n",
        "plt.legend()\n",
        "plt.xlabel(\"epochs\")\n",
        "plt.ylabel(\"f1-score\")"
      ],
      "execution_count": 76,
      "outputs": [
        {
          "output_type": "execute_result",
          "data": {
            "text/plain": [
              "Text(0, 0.5, 'f1-score')"
            ]
          },
          "metadata": {
            "tags": []
          },
          "execution_count": 76
        },
        {
          "output_type": "display_data",
          "data": {
            "image/png": "[encoded data removed]",
            "text/plain": [
              "<Figure size 432x288 with 1 Axes>"
            ]
          },
          "metadata": {
            "tags": [],
            "needs_background": "light"
          }
        }
      ]
    },
    {
      "cell_type": "code",
      "metadata": {
        "id": "cCX3eidJKWqa"
      },
      "source": [
        "def eval_model(model, dataloader, device=None):\n",
        "    \"\"\"\n",
        "    Comments goes here\n",
        "    \"\"\"\n",
        "    device = device or torch.device('cpu')\n",
        "    model.eval()\n",
        "    pred_all = []\n",
        "    Y_test = []\n",
        "    for X, Y in dataloader:\n",
        "        X = X.detach().clone().to(device)\n",
        "        Y = Y.detach().clone().to(device)\n",
        "        Y_hat = model(X, device).float()\n",
        "        Y_hat = torch.softmax(Y_hat, dim=1)\n",
        "        pred_all.append(Y_hat.cpu().detach().numpy())\n",
        "        Y_test.append(Y.cpu().detach().numpy())\n",
        "    pred_all = np.concatenate(pred_all, axis=0)\n",
        "    Y_test = np.concatenate(Y_test, axis=0)\n",
        "\n",
        "    return pred_all, Y_test     \n",
        "\n",
        "def evaluate_predictions(truth, pred):\n",
        "\n",
        "    from sklearn.metrics import roc_auc_score, f1_score, cohen_kappa_score\n",
        "    from sklearn.metrics import accuracy_score, precision_recall_fscore_support\n",
        "    from sklearn.metrics import confusion_matrix\n",
        "  \n",
        "    pred_hat = np.argmax(pred, axis=1)\n",
        "\n",
        "    auroc = roc_auc_score(truth, pred, multi_class='ovr')\n",
        "    f1 = f1_score(truth, pred_hat, average='micro')\n",
        "    kappa = cohen_kappa_score(truth, pred_hat)\n",
        "\n",
        "\n",
        "    #(precision, recall, fscore, _) = precision_recall_fscore_support(truth, pred_hat, average='macro',warn_for=tuple())\n",
        "    accuracy = accuracy_score(pred_hat, truth)\n",
        "    cm = confusion_matrix(truth, pred_hat)\n",
        "\n",
        "    return round(auroc,2), round(f1,2), round(kappa,2), round(accuracy,2),cm\n"
      ],
      "execution_count": 77,
      "outputs": []
    },
    {
      "cell_type": "code",
      "metadata": {
        "colab": {
          "base_uri": "https://localhost:8080/"
        },
        "id": "3GtKQxweGEAf",
        "outputId": "c9a28b8c-4321-4c0f-93f9-8e55eb840f66"
      },
      "source": [
        "print(\"--------final Eval---of all Channels-----\")\n",
        "pred, truth = eval_model(model, test_loader_all, device=device)\n",
        "auroc, f1, kappa, accuracy,cm = evaluate_predictions(truth, pred)\n",
        "print(f\"All Channels AUROC={auroc} , F1={f1}, accuracy ={accuracy}, and Cohen's Kappa ={kappa}\")\n",
        "print(cm)\n"
      ],
      "execution_count": 78,
      "outputs": [
        {
          "output_type": "stream",
          "text": [
            "--------final Eval---of all Channels-----\n",
            "All Channels AUROC=0.97 , F1=0.85, accuracy =0.85, and Cohen's Kappa =0.79\n",
            "[[1157   36   17    1   20]\n",
            " [  69  156  100    1  109]\n",
            " [  12   50 2084   65  130]\n",
            " [   3    1   93  516    0]\n",
            " [  23   42   65    0  849]]\n"
          ],
          "name": "stdout"
        }
      ]
    },
    {
      "cell_type": "code",
      "metadata": {
        "colab": {
          "base_uri": "https://localhost:8080/"
        },
        "id": "77cJSQAJmJt1",
        "outputId": "b68db629-5fdb-41f4-95f5-c3c235fee34d"
      },
      "source": [
        "print(\"--------final Eval---of fpz-cz-----\")\n",
        "pred, truth = eval_model(model_fpz_cz, test_loader_fpz_cz, device=device)\n",
        "auroc, f1, kappa,accuracy,cm = evaluate_predictions(truth, pred)\n",
        "print(f\"fpz-cz channel AUROC={auroc}, F1={f1}, accuracy ={accuracy}, and Cohen's Kappa ={kappa}\")\n",
        "print(cm)\n"
      ],
      "execution_count": 79,
      "outputs": [
        {
          "output_type": "stream",
          "text": [
            "--------final Eval---of fpz-cz-----\n",
            "fpz-cz channel AUROC=0.96, F1=0.83, accuracy =0.83, and Cohen's Kappa =0.77\n",
            "[[1157   28   16    0   30]\n",
            " [  96  106   97    0  136]\n",
            " [  15   38 2063   68  157]\n",
            " [   4    0  103  505    1]\n",
            " [  34   43   68    1  833]]\n"
          ],
          "name": "stdout"
        }
      ]
    },
    {
      "cell_type": "code",
      "metadata": {
        "colab": {
          "base_uri": "https://localhost:8080/"
        },
        "id": "XoE-ypckmOCe",
        "outputId": "91f3a14f-aa13-4288-a3ce-731cdb8002f7"
      },
      "source": [
        "print(\"--------final Eval---of pz-oz-----\")\n",
        "pred, truth = eval_model(model_pz_oz, test_loader_pz_oz, device=device)\n",
        "auroc, f1, kappa,accuracy,cm = evaluate_predictions(truth, pred)\n",
        "print(f\"pz-oz channel AUROC={auroc} , F1={f1}, accuracy ={accuracy}, and Cohen's Kappa ={kappa}\")\n",
        "print(cm)"
      ],
      "execution_count": 80,
      "outputs": [
        {
          "output_type": "stream",
          "text": [
            "--------final Eval---of pz-oz-----\n",
            "pz-oz channel AUROC=0.94 , F1=0.8, accuracy =0.8, and Cohen's Kappa =0.72\n",
            "[[1153   17   26    0   35]\n",
            " [ 135   49  103    2  146]\n",
            " [  26   18 2030   83  184]\n",
            " [   7    0  159  447    0]\n",
            " [  58   16   97    1  807]]\n"
          ],
          "name": "stdout"
        }
      ]
    },
    {
      "cell_type": "code",
      "metadata": {
        "colab": {
          "base_uri": "https://localhost:8080/"
        },
        "id": "XCdbE_N9X9Ft",
        "outputId": "4036cc16-7428-44b3-c155-592db32b10e0"
      },
      "source": [
        "print(\"End of run-->\",datetime.now().strftime(\"%Y-%m-%d %H:%M\"))"
      ],
      "execution_count": 81,
      "outputs": [
        {
          "output_type": "stream",
          "text": [
            "End of run--> 2021-04-23 21:55\n"
          ],
          "name": "stdout"
        }
      ]
    }
  ]
}